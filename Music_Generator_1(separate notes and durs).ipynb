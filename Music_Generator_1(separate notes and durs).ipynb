{
  "nbformat": 4,
  "nbformat_minor": 0,
  "metadata": {
    "kernelspec": {
      "display_name": "Python 3 (ipykernel)",
      "language": "python",
      "name": "python3"
    },
    "language_info": {
      "codemirror_mode": {
        "name": "ipython",
        "version": 3
      },
      "file_extension": ".py",
      "mimetype": "text/x-python",
      "name": "python",
      "nbconvert_exporter": "python",
      "pygments_lexer": "ipython3",
      "version": "3.7.9"
    },
    "colab": {
      "name": "Copy of Music Generator 1 Copy2 (separate note and dur - removed pasted dataset).ipynb",
      "provenance": [],
      "collapsed_sections": [],
      "include_colab_link": true
    }
  },
  "cells": [
    {
      "cell_type": "markdown",
      "metadata": {
        "id": "view-in-github",
        "colab_type": "text"
      },
      "source": [
        "<a href=\"https://colab.research.google.com/github/zachfurie/zachfurie/blob/main/Music_Generator_1(separate%20notes%20and%20durs).ipynb\" target=\"_parent\"><img src=\"https://colab.research.google.com/assets/colab-badge.svg\" alt=\"Open In Colab\"/></a>"
      ]
    },
    {
      "cell_type": "code",
      "metadata": {
        "colab": {
          "base_uri": "https://localhost:8080/"
        },
        "id": "8QeEAxKauQoB",
        "outputId": "09944292-bc70-4c1a-a191-42d0a0eb3789"
      },
      "source": [
        "from google.colab import drive\n",
        "drive.mount('/content/drive')"
      ],
      "execution_count": null,
      "outputs": [
        {
          "output_type": "stream",
          "name": "stdout",
          "text": [
            "Mounted at /content/drive\n"
          ]
        }
      ]
    },
    {
      "cell_type": "code",
      "metadata": {
        "colab": {
          "base_uri": "https://localhost:8080/",
          "height": 1000
        },
        "id": "EZAQu_COXG4T",
        "outputId": "3c8f43da-6f0b-49e8-eb92-218bb8c65d64"
      },
      "source": [
        "from music21 import *\n",
        "import numpy as np\n",
        "import os\n",
        "\n",
        "\n",
        "def read_midi(file,index,length):\n",
        "    print(\"Loading Music File \",index+1,'/',length,\":\", file)\n",
        "    notes = []\n",
        "    durs = []\n",
        "    notes_to_parse = None\n",
        "    offset = 0\n",
        "    # parsing a midi file\n",
        "    midi = converter.parse(file)\n",
        "    # grouping based on different instruments\n",
        "    s2 = instrument.partitionByInstrument(midi)\n",
        "    # Looping over all the instruments\n",
        "    for part in s2.parts:\n",
        "        # select elements of only piano\n",
        "        if 'Piano' in str(part):\n",
        "          notes_to_parse = part.recurse()\n",
        "          # finding whether a particular element is note or a chord\n",
        "          for element in notes_to_parse:\n",
        "              if element.duration.type == 'zero':\n",
        "                durat = 0.166666666\n",
        "              else:\n",
        "                durat = element.duration.quarterLength\n",
        "              # note\n",
        "              if isinstance(element, note.Note):\n",
        "                  notes.append(str(element.pitch))\n",
        "                  durs.append(float(durat))\n",
        "                  #+'_'+str(element.offset-offset)\n",
        "                  #offset = element.offset\n",
        "              # chord\n",
        "              elif isinstance(element, chord.Chord):\n",
        "                  notes.append('.'.join(str(n) for n in element.normalOrder))\n",
        "                  durs.append(float(durat))\n",
        "                  #+'_'+str(element.offset-offset)\n",
        "                  #offset = element.offset\n",
        "    return np.array(notes), np.array(durs)\n",
        "\n",
        "\n",
        "#specify the path\n",
        "\n",
        "#Local Files:\n",
        "#path='/Users/zachfurie/Downloads/LoFi_HipHop_MIDI_Dataset/'\n",
        "#path='/Users/zachfurie/Downloads/Classical_Music_MIDI_Dataset/mozart/'\n",
        "#path='/Users/zachfurie/Downloads/Classical_Music_MIDI_Dataset/liszt/'\n",
        "#path='/Users/zachfurie/Desktop/Classical_Music_MIDI_Dataset_Single_Folder/'\n",
        "\n",
        "#Drive Files:\n",
        "path='/content/drive/MyDrive/Classical_Music_MIDI_Dataset_Single_Folder/'\n",
        "#path='/content/drive/MyDrive/Classical_Music_MIDI_Dataset/liszt/'\n",
        "#path='/content/drive/MyDrive/Classical_Music_MIDI_Dataset/mozart/'\n",
        "\n",
        "#read all the filenames\n",
        "files=[i for i in os.listdir(path) if i.endswith(\".mid\")]\n",
        "\n",
        "#reading each midi file\n",
        "notes_array = [] \n",
        "durs_array = []\n",
        "for i in files:\n",
        " temp_n, temp_d = read_midi(path+i,files.index(i),len(files))\n",
        " notes_array.append(temp_n)\n",
        " durs_array.append(temp_d)\n",
        "\n",
        "notes_array = np.array(notes_array) \n",
        "durs_array = np.array(durs_array) \n",
        "\n",
        "\n",
        "#converting 2D array into 1D array\n",
        "notes_ = [element for note_ in notes_array for element in note_]\n",
        "print('first 5 notes: ',notes_[0:5])\n",
        "durs_ = [element for dur_ in durs_array for element in dur_]\n",
        "print('first 5 durs: ',durs_[0:5])\n",
        "\n",
        "#No. of unique notes\n",
        "unique_notes = list(set(notes_))\n",
        "print('Unique Notes: ',len(unique_notes))\n",
        "unique_durs = list(set(durs_))\n",
        "print('Unique Durs: ',len(unique_durs))\n",
        "\n",
        "#importing library\n",
        "from collections import Counter\n",
        "\n",
        "#computing frequency of each note\n",
        "freq = dict(Counter(notes_))\n",
        "freq_d = dict(Counter(durs_))\n",
        "\n",
        "\n",
        "#library for visualiation\n",
        "import matplotlib.pyplot as plt\n",
        "\n",
        "#consider only the frequencies\n",
        "no=[count for _,count in freq.items()]\n",
        "\n",
        "#set the figure size\n",
        "plt.figure(figsize=(5,5))\n",
        "\n",
        "#plot\n",
        "plt.hist(no)\n"
      ],
      "execution_count": null,
      "outputs": [
        {
          "output_type": "stream",
          "name": "stdout",
          "text": [
            "Loading Music File  1 / 292 : /content/drive/MyDrive/Classical_Music_MIDI_Dataset_Single_Folder/alb_esp4.mid\n",
            "Loading Music File  2 / 292 : /content/drive/MyDrive/Classical_Music_MIDI_Dataset_Single_Folder/alb_esp1.mid\n",
            "Loading Music File  3 / 292 : /content/drive/MyDrive/Classical_Music_MIDI_Dataset_Single_Folder/alb_esp2.mid\n",
            "Loading Music File  4 / 292 : /content/drive/MyDrive/Classical_Music_MIDI_Dataset_Single_Folder/alb_esp3.mid\n",
            "Loading Music File  5 / 292 : /content/drive/MyDrive/Classical_Music_MIDI_Dataset_Single_Folder/alb_se1.mid\n",
            "Loading Music File  6 / 292 : /content/drive/MyDrive/Classical_Music_MIDI_Dataset_Single_Folder/alb_se3.mid\n",
            "Loading Music File  7 / 292 : /content/drive/MyDrive/Classical_Music_MIDI_Dataset_Single_Folder/alb_esp6.mid\n",
            "Loading Music File  8 / 292 : /content/drive/MyDrive/Classical_Music_MIDI_Dataset_Single_Folder/alb_esp5.mid\n",
            "Loading Music File  9 / 292 : /content/drive/MyDrive/Classical_Music_MIDI_Dataset_Single_Folder/alb_se2.mid\n",
            "Loading Music File  10 / 292 : /content/drive/MyDrive/Classical_Music_MIDI_Dataset_Single_Folder/alb_se4.mid\n",
            "Loading Music File  11 / 292 : /content/drive/MyDrive/Classical_Music_MIDI_Dataset_Single_Folder/waldstein_1.mid\n",
            "Loading Music File  12 / 292 : /content/drive/MyDrive/Classical_Music_MIDI_Dataset_Single_Folder/waldstein_3.mid\n",
            "Loading Music File  13 / 292 : /content/drive/MyDrive/Classical_Music_MIDI_Dataset_Single_Folder/bor_ps1.mid\n",
            "Loading Music File  14 / 292 : /content/drive/MyDrive/Classical_Music_MIDI_Dataset_Single_Folder/pathetique_3.mid\n",
            "Loading Music File  15 / 292 : /content/drive/MyDrive/Classical_Music_MIDI_Dataset_Single_Folder/brahms_opus117_2.mid\n",
            "Loading Music File  16 / 292 : /content/drive/MyDrive/Classical_Music_MIDI_Dataset_Single_Folder/alb_se8.mid\n",
            "Loading Music File  17 / 292 : /content/drive/MyDrive/Classical_Music_MIDI_Dataset_Single_Folder/br_im5.mid\n",
            "Loading Music File  18 / 292 : /content/drive/MyDrive/Classical_Music_MIDI_Dataset_Single_Folder/beethoven_opus22_2.mid\n",
            "Loading Music File  19 / 292 : /content/drive/MyDrive/Classical_Music_MIDI_Dataset_Single_Folder/appass_1.mid\n",
            "Loading Music File  20 / 292 : /content/drive/MyDrive/Classical_Music_MIDI_Dataset_Single_Folder/beethoven_les_adieux_2.mid\n",
            "Loading Music File  21 / 292 : /content/drive/MyDrive/Classical_Music_MIDI_Dataset_Single_Folder/brahms_opus1_1.mid\n",
            "Loading Music File  22 / 292 : /content/drive/MyDrive/Classical_Music_MIDI_Dataset_Single_Folder/beethoven_hammerklavier_4.mid\n",
            "Loading Music File  23 / 292 : /content/drive/MyDrive/Classical_Music_MIDI_Dataset_Single_Folder/beethoven_les_adieux_1.mid\n",
            "Loading Music File  24 / 292 : /content/drive/MyDrive/Classical_Music_MIDI_Dataset_Single_Folder/pathetique_1.mid\n",
            "Loading Music File  25 / 292 : /content/drive/MyDrive/Classical_Music_MIDI_Dataset_Single_Folder/beethoven_hammerklavier_2.mid\n",
            "Loading Music File  26 / 292 : /content/drive/MyDrive/Classical_Music_MIDI_Dataset_Single_Folder/bach_850.mid\n",
            "Loading Music File  27 / 292 : /content/drive/MyDrive/Classical_Music_MIDI_Dataset_Single_Folder/bor_ps2.mid\n",
            "Loading Music File  28 / 292 : /content/drive/MyDrive/Classical_Music_MIDI_Dataset_Single_Folder/beethoven_opus22_3.mid\n",
            "Loading Music File  29 / 292 : /content/drive/MyDrive/Classical_Music_MIDI_Dataset_Single_Folder/beethoven_hammerklavier_3.mid\n",
            "Loading Music File  30 / 292 : /content/drive/MyDrive/Classical_Music_MIDI_Dataset_Single_Folder/beethoven_opus22_4.mid\n",
            "Loading Music File  31 / 292 : /content/drive/MyDrive/Classical_Music_MIDI_Dataset_Single_Folder/pathetique_2.mid\n",
            "Loading Music File  32 / 292 : /content/drive/MyDrive/Classical_Music_MIDI_Dataset_Single_Folder/br_rhap.mid\n",
            "Loading Music File  33 / 292 : /content/drive/MyDrive/Classical_Music_MIDI_Dataset_Single_Folder/brahms_opus117_1.mid\n",
            "Loading Music File  34 / 292 : /content/drive/MyDrive/Classical_Music_MIDI_Dataset_Single_Folder/elise.mid\n",
            "Loading Music File  35 / 292 : /content/drive/MyDrive/Classical_Music_MIDI_Dataset_Single_Folder/mond_1.mid\n",
            "Loading Music File  36 / 292 : /content/drive/MyDrive/Classical_Music_MIDI_Dataset_Single_Folder/alb_se6.mid\n",
            "Loading Music File  37 / 292 : /content/drive/MyDrive/Classical_Music_MIDI_Dataset_Single_Folder/alb_se7.mid\n",
            "Loading Music File  38 / 292 : /content/drive/MyDrive/Classical_Music_MIDI_Dataset_Single_Folder/beethoven_hammerklavier_1.mid\n",
            "Loading Music File  39 / 292 : /content/drive/MyDrive/Classical_Music_MIDI_Dataset_Single_Folder/beethoven_opus22_1.mid\n",
            "Loading Music File  40 / 292 : /content/drive/MyDrive/Classical_Music_MIDI_Dataset_Single_Folder/br_im2.mid\n",
            "Loading Music File  41 / 292 : /content/drive/MyDrive/Classical_Music_MIDI_Dataset_Single_Folder/bor_ps3.mid\n",
            "Loading Music File  42 / 292 : /content/drive/MyDrive/Classical_Music_MIDI_Dataset_Single_Folder/beethoven_opus10_2.mid\n",
            "Loading Music File  43 / 292 : /content/drive/MyDrive/Classical_Music_MIDI_Dataset_Single_Folder/appass_2.mid\n",
            "Loading Music File  44 / 292 : /content/drive/MyDrive/Classical_Music_MIDI_Dataset_Single_Folder/beethoven_opus10_3.mid\n",
            "Loading Music File  45 / 292 : /content/drive/MyDrive/Classical_Music_MIDI_Dataset_Single_Folder/brahms_opus1_3.mid\n",
            "Loading Music File  46 / 292 : /content/drive/MyDrive/Classical_Music_MIDI_Dataset_Single_Folder/brahms_opus1_4.mid\n",
            "Loading Music File  47 / 292 : /content/drive/MyDrive/Classical_Music_MIDI_Dataset_Single_Folder/waldstein_2.mid\n",
            "Loading Music File  48 / 292 : /content/drive/MyDrive/Classical_Music_MIDI_Dataset_Single_Folder/bor_ps6.mid\n",
            "Loading Music File  49 / 292 : /content/drive/MyDrive/Classical_Music_MIDI_Dataset_Single_Folder/bor_ps4.mid\n",
            "Loading Music File  50 / 292 : /content/drive/MyDrive/Classical_Music_MIDI_Dataset_Single_Folder/beethoven_opus10_1.mid\n",
            "Loading Music File  51 / 292 : /content/drive/MyDrive/Classical_Music_MIDI_Dataset_Single_Folder/mond_2.mid\n",
            "Loading Music File  52 / 292 : /content/drive/MyDrive/Classical_Music_MIDI_Dataset_Single_Folder/bor_ps7.mid\n",
            "Loading Music File  53 / 292 : /content/drive/MyDrive/Classical_Music_MIDI_Dataset_Single_Folder/appass_3.mid\n",
            "Loading Music File  54 / 292 : /content/drive/MyDrive/Classical_Music_MIDI_Dataset_Single_Folder/brahms_opus1_2.mid\n",
            "Loading Music File  55 / 292 : /content/drive/MyDrive/Classical_Music_MIDI_Dataset_Single_Folder/beethoven_les_adieux_3.mid\n",
            "Loading Music File  56 / 292 : /content/drive/MyDrive/Classical_Music_MIDI_Dataset_Single_Folder/bach_847.mid\n",
            "Loading Music File  57 / 292 : /content/drive/MyDrive/Classical_Music_MIDI_Dataset_Single_Folder/alb_se5.mid\n",
            "Loading Music File  58 / 292 : /content/drive/MyDrive/Classical_Music_MIDI_Dataset_Single_Folder/bor_ps5.mid\n",
            "Loading Music File  59 / 292 : /content/drive/MyDrive/Classical_Music_MIDI_Dataset_Single_Folder/mond_3.mid\n",
            "Loading Music File  60 / 292 : /content/drive/MyDrive/Classical_Music_MIDI_Dataset_Single_Folder/beethoven_opus90_1.mid\n",
            "Loading Music File  61 / 292 : /content/drive/MyDrive/Classical_Music_MIDI_Dataset_Single_Folder/bach_846.mid\n",
            "Loading Music File  62 / 292 : /content/drive/MyDrive/Classical_Music_MIDI_Dataset_Single_Folder/beethoven_opus90_2.mid\n",
            "Loading Music File  63 / 292 : /content/drive/MyDrive/Classical_Music_MIDI_Dataset_Single_Folder/islamei.mid\n",
            "Loading Music File  64 / 292 : /content/drive/MyDrive/Classical_Music_MIDI_Dataset_Single_Folder/haydn_35_2.mid\n",
            "Loading Music File  65 / 292 : /content/drive/MyDrive/Classical_Music_MIDI_Dataset_Single_Folder/chpn-p17.mid\n",
            "Loading Music File  66 / 292 : /content/drive/MyDrive/Classical_Music_MIDI_Dataset_Single_Folder/liz_et4.mid\n",
            "Loading Music File  67 / 292 : /content/drive/MyDrive/Classical_Music_MIDI_Dataset_Single_Folder/burg_quelle.mid\n",
            "Loading Music File  68 / 292 : /content/drive/MyDrive/Classical_Music_MIDI_Dataset_Single_Folder/chpn-p4.mid\n",
            "Loading Music File  69 / 292 : /content/drive/MyDrive/Classical_Music_MIDI_Dataset_Single_Folder/chpn-p19.mid\n",
            "Loading Music File  70 / 292 : /content/drive/MyDrive/Classical_Music_MIDI_Dataset_Single_Folder/liz_et_trans8.mid\n",
            "Loading Music File  71 / 292 : /content/drive/MyDrive/Classical_Music_MIDI_Dataset_Single_Folder/chpn_op33_4.mid\n",
            "Loading Music File  72 / 292 : /content/drive/MyDrive/Classical_Music_MIDI_Dataset_Single_Folder/haydn_8_3.mid\n",
            "Loading Music File  73 / 292 : /content/drive/MyDrive/Classical_Music_MIDI_Dataset_Single_Folder/burg_erwachen.mid\n",
            "Loading Music File  74 / 292 : /content/drive/MyDrive/Classical_Music_MIDI_Dataset_Single_Folder/burg_agitato.mid\n",
            "Loading Music File  75 / 292 : /content/drive/MyDrive/Classical_Music_MIDI_Dataset_Single_Folder/chpn-p23.mid\n",
            "Loading Music File  76 / 292 : /content/drive/MyDrive/Classical_Music_MIDI_Dataset_Single_Folder/chpn_op7_1.mid\n",
            "Loading Music File  77 / 292 : /content/drive/MyDrive/Classical_Music_MIDI_Dataset_Single_Folder/grieg_wedding.mid\n",
            "Loading Music File  78 / 292 : /content/drive/MyDrive/Classical_Music_MIDI_Dataset_Single_Folder/grieg_kobold.mid\n",
            "Loading Music File  79 / 292 : /content/drive/MyDrive/Classical_Music_MIDI_Dataset_Single_Folder/chpn-p1.mid\n",
            "Loading Music File  80 / 292 : /content/drive/MyDrive/Classical_Music_MIDI_Dataset_Single_Folder/chpn_op35_3.mid\n",
            "Loading Music File  81 / 292 : /content/drive/MyDrive/Classical_Music_MIDI_Dataset_Single_Folder/burg_gewitter.mid\n",
            "Loading Music File  82 / 292 : /content/drive/MyDrive/Classical_Music_MIDI_Dataset_Single_Folder/debussy_cc_4.mid\n",
            "Loading Music File  83 / 292 : /content/drive/MyDrive/Classical_Music_MIDI_Dataset_Single_Folder/chpn-p13.mid\n",
            "Loading Music File  84 / 292 : /content/drive/MyDrive/Classical_Music_MIDI_Dataset_Single_Folder/gra_esp_4.mid\n",
            "Loading Music File  85 / 292 : /content/drive/MyDrive/Classical_Music_MIDI_Dataset_Single_Folder/grieg_album.mid\n",
            "Loading Music File  86 / 292 : /content/drive/MyDrive/Classical_Music_MIDI_Dataset_Single_Folder/burg_sylphen.mid\n",
            "Loading Music File  87 / 292 : /content/drive/MyDrive/Classical_Music_MIDI_Dataset_Single_Folder/chpn-p9.mid\n",
            "Loading Music File  88 / 292 : /content/drive/MyDrive/Classical_Music_MIDI_Dataset_Single_Folder/liz_et5.mid\n",
            "Loading Music File  89 / 292 : /content/drive/MyDrive/Classical_Music_MIDI_Dataset_Single_Folder/chpn-p21.mid\n",
            "Loading Music File  90 / 292 : /content/drive/MyDrive/Classical_Music_MIDI_Dataset_Single_Folder/chpn_op35_2.mid\n",
            "Loading Music File  91 / 292 : /content/drive/MyDrive/Classical_Music_MIDI_Dataset_Single_Folder/chpn-p22.mid\n",
            "Loading Music File  92 / 292 : /content/drive/MyDrive/Classical_Music_MIDI_Dataset_Single_Folder/chpn_op25_e4.mid\n",
            "Loading Music File  93 / 292 : /content/drive/MyDrive/Classical_Music_MIDI_Dataset_Single_Folder/chpn-p10.mid\n",
            "Loading Music File  94 / 292 : /content/drive/MyDrive/Classical_Music_MIDI_Dataset_Single_Folder/grieg_march.mid\n",
            "Loading Music File  95 / 292 : /content/drive/MyDrive/Classical_Music_MIDI_Dataset_Single_Folder/chpn-p16.mid\n",
            "Loading Music File  96 / 292 : /content/drive/MyDrive/Classical_Music_MIDI_Dataset_Single_Folder/chpn_op23.mid\n",
            "Loading Music File  97 / 292 : /content/drive/MyDrive/Classical_Music_MIDI_Dataset_Single_Folder/grieg_waechter.mid\n",
            "Loading Music File  98 / 292 : /content/drive/MyDrive/Classical_Music_MIDI_Dataset_Single_Folder/haydn_33_2.mid\n",
            "Loading Music File  99 / 292 : /content/drive/MyDrive/Classical_Music_MIDI_Dataset_Single_Folder/liz_donjuan.mid\n",
            "Loading Music File  100 / 292 : /content/drive/MyDrive/Classical_Music_MIDI_Dataset_Single_Folder/grieg_halling.mid\n",
            "Loading Music File  101 / 292 : /content/drive/MyDrive/Classical_Music_MIDI_Dataset_Single_Folder/chpn_op25_e1.mid\n",
            "Loading Music File  102 / 292 : /content/drive/MyDrive/Classical_Music_MIDI_Dataset_Single_Folder/haydn_9_3.mid\n",
            "Loading Music File  103 / 292 : /content/drive/MyDrive/Classical_Music_MIDI_Dataset_Single_Folder/haydn_7_1.mid\n",
            "Loading Music File  104 / 292 : /content/drive/MyDrive/Classical_Music_MIDI_Dataset_Single_Folder/burg_trennung.mid\n",
            "Loading Music File  105 / 292 : /content/drive/MyDrive/Classical_Music_MIDI_Dataset_Single_Folder/hay_40_1.mid\n",
            "Loading Music File  106 / 292 : /content/drive/MyDrive/Classical_Music_MIDI_Dataset_Single_Folder/grieg_wanderer.mid\n",
            "Loading Music File  107 / 292 : /content/drive/MyDrive/Classical_Music_MIDI_Dataset_Single_Folder/liz_et_trans5.mid\n",
            "Loading Music File  108 / 292 : /content/drive/MyDrive/Classical_Music_MIDI_Dataset_Single_Folder/chpn-p15.mid\n",
            "Loading Music File  109 / 292 : /content/drive/MyDrive/Classical_Music_MIDI_Dataset_Single_Folder/liz_et2.mid\n",
            "Loading Music File  110 / 292 : /content/drive/MyDrive/Classical_Music_MIDI_Dataset_Single_Folder/haydn_9_1.mid\n",
            "Loading Music File  111 / 292 : /content/drive/MyDrive/Classical_Music_MIDI_Dataset_Single_Folder/grieg_berceuse.mid\n",
            "Loading Music File  112 / 292 : /content/drive/MyDrive/Classical_Music_MIDI_Dataset_Single_Folder/chpn_op10_e05.mid\n",
            "Loading Music File  113 / 292 : /content/drive/MyDrive/Classical_Music_MIDI_Dataset_Single_Folder/chpn_op27_1.mid\n",
            "Loading Music File  114 / 292 : /content/drive/MyDrive/Classical_Music_MIDI_Dataset_Single_Folder/grieg_butterfly.mid\n",
            "Loading Music File  115 / 292 : /content/drive/MyDrive/Classical_Music_MIDI_Dataset_Single_Folder/debussy_cc_2.mid\n",
            "Loading Music File  116 / 292 : /content/drive/MyDrive/Classical_Music_MIDI_Dataset_Single_Folder/grieg_brooklet.mid\n",
            "Loading Music File  117 / 292 : /content/drive/MyDrive/Classical_Music_MIDI_Dataset_Single_Folder/chpn-p3.mid\n",
            "Loading Music File  118 / 292 : /content/drive/MyDrive/Classical_Music_MIDI_Dataset_Single_Folder/chpn_op25_e12.mid\n",
            "Loading Music File  119 / 292 : /content/drive/MyDrive/Classical_Music_MIDI_Dataset_Single_Folder/haydn_8_2.mid\n",
            "Loading Music File  120 / 292 : /content/drive/MyDrive/Classical_Music_MIDI_Dataset_Single_Folder/chpn_op53.mid\n",
            "Loading Music File  121 / 292 : /content/drive/MyDrive/Classical_Music_MIDI_Dataset_Single_Folder/debussy_cc_1.mid\n",
            "Loading Music File  122 / 292 : /content/drive/MyDrive/Classical_Music_MIDI_Dataset_Single_Folder/chpn_op35_1.mid\n",
            "Loading Music File  123 / 292 : /content/drive/MyDrive/Classical_Music_MIDI_Dataset_Single_Folder/burg_spinnerlied.mid\n",
            "Loading Music File  124 / 292 : /content/drive/MyDrive/Classical_Music_MIDI_Dataset_Single_Folder/liz_et3.mid\n",
            "Loading Music File  125 / 292 : /content/drive/MyDrive/Classical_Music_MIDI_Dataset_Single_Folder/chpn_op25_e2.mid\n",
            "Loading Music File  126 / 292 : /content/drive/MyDrive/Classical_Music_MIDI_Dataset_Single_Folder/chpn_op33_2.mid\n",
            "Loading Music File  127 / 292 : /content/drive/MyDrive/Classical_Music_MIDI_Dataset_Single_Folder/haydn_43_1.mid\n",
            "Loading Music File  128 / 292 : /content/drive/MyDrive/Classical_Music_MIDI_Dataset_Single_Folder/gra_esp_3.mid\n",
            "Loading Music File  129 / 292 : /content/drive/MyDrive/Classical_Music_MIDI_Dataset_Single_Folder/burg_perlen.mid\n",
            "Loading Music File  130 / 292 : /content/drive/MyDrive/Classical_Music_MIDI_Dataset_Single_Folder/chpn-p24.mid\n",
            "Loading Music File  131 / 292 : /content/drive/MyDrive/Classical_Music_MIDI_Dataset_Single_Folder/chpn_op10_e12.mid\n",
            "Loading Music File  132 / 292 : /content/drive/MyDrive/Classical_Music_MIDI_Dataset_Single_Folder/chp_op18.mid\n",
            "Loading Music File  133 / 292 : /content/drive/MyDrive/Classical_Music_MIDI_Dataset_Single_Folder/deb_prel.mid\n",
            "Loading Music File  134 / 292 : /content/drive/MyDrive/Classical_Music_MIDI_Dataset_Single_Folder/haydn_35_3.mid\n",
            "Loading Music File  135 / 292 : /content/drive/MyDrive/Classical_Music_MIDI_Dataset_Single_Folder/liz_et1.mid\n",
            "Loading Music File  136 / 292 : /content/drive/MyDrive/Classical_Music_MIDI_Dataset_Single_Folder/debussy_cc_3.mid\n",
            "Loading Music File  137 / 292 : /content/drive/MyDrive/Classical_Music_MIDI_Dataset_Single_Folder/liz_et6.mid\n",
            "Loading Music File  138 / 292 : /content/drive/MyDrive/Classical_Music_MIDI_Dataset_Single_Folder/deb_menu.mid\n",
            "Loading Music File  139 / 292 : /content/drive/MyDrive/Classical_Music_MIDI_Dataset_Single_Folder/chpn_op25_e3.mid\n",
            "Loading Music File  140 / 292 : /content/drive/MyDrive/Classical_Music_MIDI_Dataset_Single_Folder/chpn-p8.mid\n",
            "Loading Music File  141 / 292 : /content/drive/MyDrive/Classical_Music_MIDI_Dataset_Single_Folder/liz_rhap02.mid\n",
            "Loading Music File  142 / 292 : /content/drive/MyDrive/Classical_Music_MIDI_Dataset_Single_Folder/chpn-p6.mid\n",
            "Loading Music File  143 / 292 : /content/drive/MyDrive/Classical_Music_MIDI_Dataset_Single_Folder/grieg_voeglein.mid\n",
            "Loading Music File  144 / 292 : /content/drive/MyDrive/Classical_Music_MIDI_Dataset_Single_Folder/gra_esp_2.mid\n",
            "Loading Music File  145 / 292 : /content/drive/MyDrive/Classical_Music_MIDI_Dataset_Single_Folder/chpn_op35_4.mid\n",
            "Loading Music File  146 / 292 : /content/drive/MyDrive/Classical_Music_MIDI_Dataset_Single_Folder/chpn_op66.mid\n",
            "Loading Music File  147 / 292 : /content/drive/MyDrive/Classical_Music_MIDI_Dataset_Single_Folder/burg_geschwindigkeit.mid\n",
            "Loading Music File  148 / 292 : /content/drive/MyDrive/Classical_Music_MIDI_Dataset_Single_Folder/grieg_zwerge.mid\n",
            "Loading Music File  149 / 292 : /content/drive/MyDrive/Classical_Music_MIDI_Dataset_Single_Folder/chpn-p2.mid\n",
            "Loading Music File  150 / 292 : /content/drive/MyDrive/Classical_Music_MIDI_Dataset_Single_Folder/haydn_7_2.mid\n",
            "Loading Music File  151 / 292 : /content/drive/MyDrive/Classical_Music_MIDI_Dataset_Single_Folder/haydn_7_3.mid\n",
            "Loading Music File  152 / 292 : /content/drive/MyDrive/Classical_Music_MIDI_Dataset_Single_Folder/grieg_walzer.mid\n",
            "Loading Music File  153 / 292 : /content/drive/MyDrive/Classical_Music_MIDI_Dataset_Single_Folder/haydn_9_2.mid\n",
            "Loading Music File  154 / 292 : /content/drive/MyDrive/Classical_Music_MIDI_Dataset_Single_Folder/chpn-p14.mid\n",
            "Loading Music File  155 / 292 : /content/drive/MyDrive/Classical_Music_MIDI_Dataset_Single_Folder/hay_40_2.mid\n",
            "Loading Music File  156 / 292 : /content/drive/MyDrive/Classical_Music_MIDI_Dataset_Single_Folder/haydn_33_1.mid\n",
            "Loading Music File  157 / 292 : /content/drive/MyDrive/Classical_Music_MIDI_Dataset_Single_Folder/liz_liebestraum.mid\n",
            "Loading Music File  158 / 292 : /content/drive/MyDrive/Classical_Music_MIDI_Dataset_Single_Folder/debussy_cc_6.mid\n",
            "Loading Music File  159 / 292 : /content/drive/MyDrive/Classical_Music_MIDI_Dataset_Single_Folder/chpn-p18.mid\n",
            "Loading Music File  160 / 292 : /content/drive/MyDrive/Classical_Music_MIDI_Dataset_Single_Folder/haydn_33_3.mid\n",
            "Loading Music File  161 / 292 : /content/drive/MyDrive/Classical_Music_MIDI_Dataset_Single_Folder/chpn_op7_2.mid\n",
            "Loading Music File  162 / 292 : /content/drive/MyDrive/Classical_Music_MIDI_Dataset_Single_Folder/chpn-p12.mid\n",
            "Loading Music File  163 / 292 : /content/drive/MyDrive/Classical_Music_MIDI_Dataset_Single_Folder/grieg_once_upon_a_time.mid\n",
            "Loading Music File  164 / 292 : /content/drive/MyDrive/Classical_Music_MIDI_Dataset_Single_Folder/haydn_43_3.mid\n",
            "Loading Music File  165 / 292 : /content/drive/MyDrive/Classical_Music_MIDI_Dataset_Single_Folder/haydn_8_4.mid\n",
            "Loading Music File  166 / 292 : /content/drive/MyDrive/Classical_Music_MIDI_Dataset_Single_Folder/chpn_op10_e01.mid\n",
            "Loading Music File  167 / 292 : /content/drive/MyDrive/Classical_Music_MIDI_Dataset_Single_Folder/liz_et_trans4.mid\n",
            "Loading Music File  168 / 292 : /content/drive/MyDrive/Classical_Music_MIDI_Dataset_Single_Folder/grieg_spring.mid\n",
            "Loading Music File  169 / 292 : /content/drive/MyDrive/Classical_Music_MIDI_Dataset_Single_Folder/chpn-p7.mid\n",
            "Loading Music File  170 / 292 : /content/drive/MyDrive/Classical_Music_MIDI_Dataset_Single_Folder/haydn_35_1.mid\n",
            "Loading Music File  171 / 292 : /content/drive/MyDrive/Classical_Music_MIDI_Dataset_Single_Folder/chpn-p11.mid\n",
            "Loading Music File  172 / 292 : /content/drive/MyDrive/Classical_Music_MIDI_Dataset_Single_Folder/grieg_elfentanz.mid\n",
            "Loading Music File  173 / 292 : /content/drive/MyDrive/Classical_Music_MIDI_Dataset_Single_Folder/chpn_op25_e11.mid\n",
            "Loading Music File  174 / 292 : /content/drive/MyDrive/Classical_Music_MIDI_Dataset_Single_Folder/haydn_8_1.mid\n",
            "Loading Music File  175 / 292 : /content/drive/MyDrive/Classical_Music_MIDI_Dataset_Single_Folder/chpn-p5.mid\n",
            "Loading Music File  176 / 292 : /content/drive/MyDrive/Classical_Music_MIDI_Dataset_Single_Folder/chpn-p20.mid\n",
            "Loading Music File  177 / 292 : /content/drive/MyDrive/Classical_Music_MIDI_Dataset_Single_Folder/chp_op31.mid\n",
            "Loading Music File  178 / 292 : /content/drive/MyDrive/Classical_Music_MIDI_Dataset_Single_Folder/chpn_op27_2.mid\n",
            "Loading Music File  179 / 292 : /content/drive/MyDrive/Classical_Music_MIDI_Dataset_Single_Folder/haydn_43_2.mid\n",
            "Loading Music File  180 / 292 : /content/drive/MyDrive/Classical_Music_MIDI_Dataset_Single_Folder/liz_rhap12.mid\n",
            "Loading Music File  181 / 292 : /content/drive/MyDrive/Classical_Music_MIDI_Dataset_Single_Folder/mz_545_3.mid\n",
            "Loading Music File  182 / 292 : /content/drive/MyDrive/Classical_Music_MIDI_Dataset_Single_Folder/mendel_op19_5.mid\n",
            "Loading Music File  183 / 292 : /content/drive/MyDrive/Classical_Music_MIDI_Dataset_Single_Folder/mz_331_3.mid\n",
            "Loading Music File  184 / 292 : /content/drive/MyDrive/Classical_Music_MIDI_Dataset_Single_Folder/mz_570_2.mid\n",
            "Loading Music File  185 / 292 : /content/drive/MyDrive/Classical_Music_MIDI_Dataset_Single_Folder/muss_1.mid\n",
            "Loading Music File  186 / 292 : /content/drive/MyDrive/Classical_Music_MIDI_Dataset_Single_Folder/mz_330_1.mid\n",
            "Loading Music File  187 / 292 : /content/drive/MyDrive/Classical_Music_MIDI_Dataset_Single_Folder/liz_rhap15.mid\n",
            "Loading Music File  188 / 292 : /content/drive/MyDrive/Classical_Music_MIDI_Dataset_Single_Folder/mendel_op62_3.mid\n",
            "Loading Music File  189 / 292 : /content/drive/MyDrive/Classical_Music_MIDI_Dataset_Single_Folder/mendel_op19_2.mid\n",
            "Loading Music File  190 / 292 : /content/drive/MyDrive/Classical_Music_MIDI_Dataset_Single_Folder/mendel_op19_6.mid\n",
            "Loading Music File  191 / 292 : /content/drive/MyDrive/Classical_Music_MIDI_Dataset_Single_Folder/mz_331_1.mid\n",
            "Loading Music File  192 / 292 : /content/drive/MyDrive/Classical_Music_MIDI_Dataset_Single_Folder/mz_311_3.mid\n",
            "Loading Music File  193 / 292 : /content/drive/MyDrive/Classical_Music_MIDI_Dataset_Single_Folder/mz_570_1.mid\n",
            "Loading Music File  194 / 292 : /content/drive/MyDrive/Classical_Music_MIDI_Dataset_Single_Folder/mz_333_2.mid\n",
            "Loading Music File  195 / 292 : /content/drive/MyDrive/Classical_Music_MIDI_Dataset_Single_Folder/mendel_op19_1.mid\n",
            "Loading Music File  196 / 292 : /content/drive/MyDrive/Classical_Music_MIDI_Dataset_Single_Folder/mendel_op53_5.mid\n",
            "Loading Music File  197 / 292 : /content/drive/MyDrive/Classical_Music_MIDI_Dataset_Single_Folder/mz_333_1.mid\n",
            "Loading Music File  198 / 292 : /content/drive/MyDrive/Classical_Music_MIDI_Dataset_Single_Folder/mendel_op30_3.mid\n",
            "Loading Music File  199 / 292 : /content/drive/MyDrive/Classical_Music_MIDI_Dataset_Single_Folder/mz_331_2.mid\n",
            "Loading Music File  200 / 292 : /content/drive/MyDrive/Classical_Music_MIDI_Dataset_Single_Folder/liz_rhap09.mid\n",
            "Loading Music File  201 / 292 : /content/drive/MyDrive/Classical_Music_MIDI_Dataset_Single_Folder/mendel_op19_4.mid\n",
            "Loading Music File  202 / 292 : /content/drive/MyDrive/Classical_Music_MIDI_Dataset_Single_Folder/mz_311_2.mid\n",
            "Loading Music File  203 / 292 : /content/drive/MyDrive/Classical_Music_MIDI_Dataset_Single_Folder/mendel_op30_1.mid\n",
            "Loading Music File  204 / 292 : /content/drive/MyDrive/Classical_Music_MIDI_Dataset_Single_Folder/mz_330_2.mid\n",
            "Loading Music File  205 / 292 : /content/drive/MyDrive/Classical_Music_MIDI_Dataset_Single_Folder/mz_330_3.mid\n",
            "Loading Music File  206 / 292 : /content/drive/MyDrive/Classical_Music_MIDI_Dataset_Single_Folder/mz_332_1.mid\n",
            "Loading Music File  207 / 292 : /content/drive/MyDrive/Classical_Music_MIDI_Dataset_Single_Folder/mz_332_3.mid\n",
            "Loading Music File  208 / 292 : /content/drive/MyDrive/Classical_Music_MIDI_Dataset_Single_Folder/mz_545_2.mid\n",
            "Loading Music File  209 / 292 : /content/drive/MyDrive/Classical_Music_MIDI_Dataset_Single_Folder/muss_2.mid\n",
            "Loading Music File  210 / 292 : /content/drive/MyDrive/Classical_Music_MIDI_Dataset_Single_Folder/mz_333_3.mid\n",
            "Loading Music File  211 / 292 : /content/drive/MyDrive/Classical_Music_MIDI_Dataset_Single_Folder/liz_rhap10.mid\n",
            "Loading Music File  212 / 292 : /content/drive/MyDrive/Classical_Music_MIDI_Dataset_Single_Folder/mendel_op19_3.mid\n",
            "Loading Music File  213 / 292 : /content/drive/MyDrive/Classical_Music_MIDI_Dataset_Single_Folder/mz_570_3.mid\n",
            "Loading Music File  214 / 292 : /content/drive/MyDrive/Classical_Music_MIDI_Dataset_Single_Folder/mz_311_1.mid\n",
            "Loading Music File  215 / 292 : /content/drive/MyDrive/Classical_Music_MIDI_Dataset_Single_Folder/mz_545_1.mid\n",
            "Loading Music File  216 / 292 : /content/drive/MyDrive/Classical_Music_MIDI_Dataset_Single_Folder/mendel_op30_5.mid\n",
            "Loading Music File  217 / 292 : /content/drive/MyDrive/Classical_Music_MIDI_Dataset_Single_Folder/mendel_op62_5.mid\n",
            "Loading Music File  218 / 292 : /content/drive/MyDrive/Classical_Music_MIDI_Dataset_Single_Folder/mendel_op62_4.mid\n",
            "Loading Music File  219 / 292 : /content/drive/MyDrive/Classical_Music_MIDI_Dataset_Single_Folder/mz_332_2.mid\n",
            "Loading Music File  220 / 292 : /content/drive/MyDrive/Classical_Music_MIDI_Dataset_Single_Folder/mendel_op30_4.mid\n",
            "Loading Music File  221 / 292 : /content/drive/MyDrive/Classical_Music_MIDI_Dataset_Single_Folder/mendel_op30_2.mid\n",
            "Loading Music File  222 / 292 : /content/drive/MyDrive/Classical_Music_MIDI_Dataset_Single_Folder/schubert_D935_3.mid\n",
            "Loading Music File  223 / 292 : /content/drive/MyDrive/Classical_Music_MIDI_Dataset_Single_Folder/schubert_D935_1.mid\n",
            "Loading Music File  224 / 292 : /content/drive/MyDrive/Classical_Music_MIDI_Dataset_Single_Folder/schub_d960_3.mid\n",
            "Loading Music File  225 / 292 : /content/drive/MyDrive/Classical_Music_MIDI_Dataset_Single_Folder/schub_d760_2.mid\n",
            "Loading Music File  226 / 292 : /content/drive/MyDrive/Classical_Music_MIDI_Dataset_Single_Folder/schubert_D935_2.mid\n",
            "Loading Music File  227 / 292 : /content/drive/MyDrive/Classical_Music_MIDI_Dataset_Single_Folder/schub_d960_1.mid\n",
            "Loading Music File  228 / 292 : /content/drive/MyDrive/Classical_Music_MIDI_Dataset_Single_Folder/schubert_D850_3.mid\n",
            "Loading Music File  229 / 292 : /content/drive/MyDrive/Classical_Music_MIDI_Dataset_Single_Folder/schub_d760_1.mid\n",
            "Loading Music File  230 / 292 : /content/drive/MyDrive/Classical_Music_MIDI_Dataset_Single_Folder/muss_3.mid\n",
            "Loading Music File  231 / 292 : /content/drive/MyDrive/Classical_Music_MIDI_Dataset_Single_Folder/muss_7.mid\n",
            "Loading Music File  232 / 292 : /content/drive/MyDrive/Classical_Music_MIDI_Dataset_Single_Folder/muss_8.mid\n",
            "Loading Music File  233 / 292 : /content/drive/MyDrive/Classical_Music_MIDI_Dataset_Single_Folder/muss_5.mid\n",
            "Loading Music File  234 / 292 : /content/drive/MyDrive/Classical_Music_MIDI_Dataset_Single_Folder/schu_143_3.mid\n",
            "Loading Music File  235 / 292 : /content/drive/MyDrive/Classical_Music_MIDI_Dataset_Single_Folder/schubert_D850_4.mid\n",
            "Loading Music File  236 / 292 : /content/drive/MyDrive/Classical_Music_MIDI_Dataset_Single_Folder/schu_143_1.mid\n",
            "Loading Music File  237 / 292 : /content/drive/MyDrive/Classical_Music_MIDI_Dataset_Single_Folder/schub_d960_4.mid\n",
            "Loading Music File  238 / 292 : /content/drive/MyDrive/Classical_Music_MIDI_Dataset_Single_Folder/schu_143_2.mid\n",
            "Loading Music File  239 / 292 : /content/drive/MyDrive/Classical_Music_MIDI_Dataset_Single_Folder/muss_4.mid\n",
            "Loading Music File  240 / 292 : /content/drive/MyDrive/Classical_Music_MIDI_Dataset_Single_Folder/muss_6.mid\n",
            "Loading Music File  241 / 292 : /content/drive/MyDrive/Classical_Music_MIDI_Dataset_Single_Folder/schubert_D850_1.mid\n",
            "Loading Music File  242 / 292 : /content/drive/MyDrive/Classical_Music_MIDI_Dataset_Single_Folder/schub_d960_2.mid\n",
            "Loading Music File  243 / 292 : /content/drive/MyDrive/Classical_Music_MIDI_Dataset_Single_Folder/schub_d760_3.mid\n",
            "Loading Music File  244 / 292 : /content/drive/MyDrive/Classical_Music_MIDI_Dataset_Single_Folder/schub_d760_4.mid\n",
            "Loading Music File  245 / 292 : /content/drive/MyDrive/Classical_Music_MIDI_Dataset_Single_Folder/schubert_D850_2.mid\n",
            "Loading Music File  246 / 292 : /content/drive/MyDrive/Classical_Music_MIDI_Dataset_Single_Folder/schuim-4.mid\n",
            "Loading Music File  247 / 292 : /content/drive/MyDrive/Classical_Music_MIDI_Dataset_Single_Folder/scn15_4.mid\n",
            "Loading Music File  248 / 292 : /content/drive/MyDrive/Classical_Music_MIDI_Dataset_Single_Folder/ty_august.mid\n",
            "Loading Music File  249 / 292 : /content/drive/MyDrive/Classical_Music_MIDI_Dataset_Single_Folder/ty_dezember.mid\n",
            "Loading Music File  250 / 292 : /content/drive/MyDrive/Classical_Music_MIDI_Dataset_Single_Folder/ty_maerz.mid\n",
            "Loading Music File  251 / 292 : /content/drive/MyDrive/Classical_Music_MIDI_Dataset_Single_Folder/scn15_13.mid\n",
            "Loading Music File  252 / 292 : /content/drive/MyDrive/Classical_Music_MIDI_Dataset_Single_Folder/scn16_8.mid\n",
            "Loading Music File  253 / 292 : /content/drive/MyDrive/Classical_Music_MIDI_Dataset_Single_Folder/scn16_2.mid\n",
            "Loading Music File  254 / 292 : /content/drive/MyDrive/Classical_Music_MIDI_Dataset_Single_Folder/scn68_12.mid\n",
            "Loading Music File  255 / 292 : /content/drive/MyDrive/Classical_Music_MIDI_Dataset_Single_Folder/schum_abegg.mid\n",
            "Loading Music File  256 / 292 : /content/drive/MyDrive/Classical_Music_MIDI_Dataset_Single_Folder/ty_januar.mid\n",
            "Loading Music File  257 / 292 : /content/drive/MyDrive/Classical_Music_MIDI_Dataset_Single_Folder/ty_februar.mid\n",
            "Loading Music File  258 / 292 : /content/drive/MyDrive/Classical_Music_MIDI_Dataset_Single_Folder/scn15_7.mid\n",
            "Loading Music File  259 / 292 : /content/drive/MyDrive/Classical_Music_MIDI_Dataset_Single_Folder/ty_mai.mid\n",
            "Loading Music File  260 / 292 : /content/drive/MyDrive/Classical_Music_MIDI_Dataset_Single_Folder/scn15_9.mid\n",
            "Loading Music File  261 / 292 : /content/drive/MyDrive/Classical_Music_MIDI_Dataset_Single_Folder/scn15_10.mid\n",
            "Loading Music File  262 / 292 : /content/drive/MyDrive/Classical_Music_MIDI_Dataset_Single_Folder/ty_april.mid\n",
            "Loading Music File  263 / 292 : /content/drive/MyDrive/Classical_Music_MIDI_Dataset_Single_Folder/schubert_D935_4.mid\n",
            "Loading Music File  264 / 292 : /content/drive/MyDrive/Classical_Music_MIDI_Dataset_Single_Folder/schumm-5.mid\n",
            "Loading Music File  265 / 292 : /content/drive/MyDrive/Classical_Music_MIDI_Dataset_Single_Folder/schuim-2.mid\n",
            "Loading Music File  266 / 292 : /content/drive/MyDrive/Classical_Music_MIDI_Dataset_Single_Folder/schuim-3.mid\n",
            "Loading Music File  267 / 292 : /content/drive/MyDrive/Classical_Music_MIDI_Dataset_Single_Folder/ty_november.mid\n",
            "Loading Music File  268 / 292 : /content/drive/MyDrive/Classical_Music_MIDI_Dataset_Single_Folder/scn16_3.mid\n",
            "Loading Music File  269 / 292 : /content/drive/MyDrive/Classical_Music_MIDI_Dataset_Single_Folder/schumm-2.mid\n",
            "Loading Music File  270 / 292 : /content/drive/MyDrive/Classical_Music_MIDI_Dataset_Single_Folder/scn15_1.mid\n",
            "Loading Music File  271 / 292 : /content/drive/MyDrive/Classical_Music_MIDI_Dataset_Single_Folder/ty_juni.mid\n",
            "Loading Music File  272 / 292 : /content/drive/MyDrive/Classical_Music_MIDI_Dataset_Single_Folder/scn15_8.mid\n",
            "Loading Music File  273 / 292 : /content/drive/MyDrive/Classical_Music_MIDI_Dataset_Single_Folder/schuim-1.mid\n",
            "Loading Music File  274 / 292 : /content/drive/MyDrive/Classical_Music_MIDI_Dataset_Single_Folder/scn16_1.mid\n",
            "Loading Music File  275 / 292 : /content/drive/MyDrive/Classical_Music_MIDI_Dataset_Single_Folder/scn15_3.mid\n",
            "Loading Music File  276 / 292 : /content/drive/MyDrive/Classical_Music_MIDI_Dataset_Single_Folder/schumm-3.mid\n",
            "Loading Music File  277 / 292 : /content/drive/MyDrive/Classical_Music_MIDI_Dataset_Single_Folder/schumm-4.mid\n",
            "Loading Music File  278 / 292 : /content/drive/MyDrive/Classical_Music_MIDI_Dataset_Single_Folder/scn16_7.mid\n",
            "Loading Music File  279 / 292 : /content/drive/MyDrive/Classical_Music_MIDI_Dataset_Single_Folder/scn15_2.mid\n",
            "Loading Music File  280 / 292 : /content/drive/MyDrive/Classical_Music_MIDI_Dataset_Single_Folder/ty_juli.mid\n",
            "Loading Music File  281 / 292 : /content/drive/MyDrive/Classical_Music_MIDI_Dataset_Single_Folder/scn68_10.mid\n",
            "Loading Music File  282 / 292 : /content/drive/MyDrive/Classical_Music_MIDI_Dataset_Single_Folder/scn15_5.mid\n",
            "Loading Music File  283 / 292 : /content/drive/MyDrive/Classical_Music_MIDI_Dataset_Single_Folder/schumm-6.mid\n",
            "Loading Music File  284 / 292 : /content/drive/MyDrive/Classical_Music_MIDI_Dataset_Single_Folder/scn15_6.mid\n",
            "Loading Music File  285 / 292 : /content/drive/MyDrive/Classical_Music_MIDI_Dataset_Single_Folder/scn15_12.mid\n",
            "Loading Music File  286 / 292 : /content/drive/MyDrive/Classical_Music_MIDI_Dataset_Single_Folder/scn16_4.mid\n",
            "Loading Music File  287 / 292 : /content/drive/MyDrive/Classical_Music_MIDI_Dataset_Single_Folder/scn15_11.mid\n",
            "Loading Music File  288 / 292 : /content/drive/MyDrive/Classical_Music_MIDI_Dataset_Single_Folder/schumm-1.mid\n",
            "Loading Music File  289 / 292 : /content/drive/MyDrive/Classical_Music_MIDI_Dataset_Single_Folder/scn16_5.mid\n",
            "Loading Music File  290 / 292 : /content/drive/MyDrive/Classical_Music_MIDI_Dataset_Single_Folder/scn16_6.mid\n",
            "Loading Music File  291 / 292 : /content/drive/MyDrive/Classical_Music_MIDI_Dataset_Single_Folder/ty_september.mid\n",
            "Loading Music File  292 / 292 : /content/drive/MyDrive/Classical_Music_MIDI_Dataset_Single_Folder/ty_oktober.mid\n"
          ]
        },
        {
          "output_type": "stream",
          "name": "stderr",
          "text": [
            "/usr/local/lib/python3.7/dist-packages/ipykernel_launcher.py:66: VisibleDeprecationWarning: Creating an ndarray from ragged nested sequences (which is a list-or-tuple of lists-or-tuples-or ndarrays with different lengths or shapes) is deprecated. If you meant to do this, you must specify 'dtype=object' when creating the ndarray\n",
            "/usr/local/lib/python3.7/dist-packages/ipykernel_launcher.py:67: VisibleDeprecationWarning: Creating an ndarray from ragged nested sequences (which is a list-or-tuple of lists-or-tuples-or ndarrays with different lengths or shapes) is deprecated. If you meant to do this, you must specify 'dtype=object' when creating the ndarray\n"
          ]
        },
        {
          "output_type": "stream",
          "name": "stdout",
          "text": [
            "first 5 notes:  ['G5', 'D5', 'B4', 'E-5', 'C5']\n",
            "first 5 durs:  [0.25, 0.25, 0.25, 0.25, 0.25]\n",
            "Unique Notes:  477\n",
            "Unique Durs:  69\n"
          ]
        },
        {
          "output_type": "execute_result",
          "data": {
            "text/plain": [
              "(array([375.,  47.,  15.,   7.,   6.,   3.,   8.,   8.,   3.,   5.]),\n",
              " array([1.00000e+00, 1.18810e+03, 2.37520e+03, 3.56230e+03, 4.74940e+03,\n",
              "        5.93650e+03, 7.12360e+03, 8.31070e+03, 9.49780e+03, 1.06849e+04,\n",
              "        1.18720e+04]),\n",
              " <a list of 10 Patch objects>)"
            ]
          },
          "metadata": {},
          "execution_count": 74
        },
        {
          "output_type": "display_data",
          "data": {
            "image/png": "[encoded data removed]",
            "text/plain": [
              "<Figure size 360x360 with 1 Axes>"
            ]
          },
          "metadata": {
            "image/png": {
              "width": 325,
              "height": 302
            },
            "needs_background": "light"
          }
        }
      ]
    },
    {
      "cell_type": "code",
      "metadata": {
        "scrolled": false,
        "colab": {
          "base_uri": "https://localhost:8080/"
        },
        "id": "ugTPPX55XG4a",
        "outputId": "00399604-29ab-4298-d487-b518e9f97c97"
      },
      "source": [
        "frequent_notes = [note_ for note_, count in freq.items() if count>=50] #50\n",
        "print(len(frequent_notes))\n",
        "\n",
        "frequent_durs = [note_ for note_, count in freq_d.items() if count>=50] #50\n",
        "print(len(frequent_durs))"
      ],
      "execution_count": null,
      "outputs": [
        {
          "output_type": "stream",
          "name": "stdout",
          "text": [
            "233\n",
            "25\n"
          ]
        }
      ]
    },
    {
      "cell_type": "code",
      "metadata": {
        "colab": {
          "base_uri": "https://localhost:8080/",
          "height": 406
        },
        "id": "tbCfDq75jocA",
        "outputId": "4909b1cd-93f2-4fde-a1ca-94d7df83698b"
      },
      "source": [
        "#library for visualiation\n",
        "import matplotlib.pyplot as plt\n",
        "\n",
        "#consider only the frequencies\n",
        "no=[count for _,count in freq_d.items()]\n",
        "\n",
        "#set the figure size\n",
        "plt.figure(figsize=(5,5))\n",
        "\n",
        "#plot\n",
        "plt.hist(no)"
      ],
      "execution_count": null,
      "outputs": [
        {
          "output_type": "execute_result",
          "data": {
            "text/plain": [
              "(array([64.,  1.,  2.,  0.,  1.,  0.,  0.,  0.,  0.,  1.]),\n",
              " array([1.000000e+00, 2.105160e+04, 4.210220e+04, 6.315280e+04,\n",
              "        8.420340e+04, 1.052540e+05, 1.263046e+05, 1.473552e+05,\n",
              "        1.684058e+05, 1.894564e+05, 2.105070e+05]),\n",
              " <a list of 10 Patch objects>)"
            ]
          },
          "metadata": {},
          "execution_count": 241
        },
        {
          "output_type": "display_data",
          "data": {
            "image/png": "[encoded data removed]",
            "text/plain": [
              "<Figure size 360x360 with 1 Axes>"
            ]
          },
          "metadata": {
            "image/png": {
              "width": 313,
              "height": 302
            },
            "needs_background": "light"
          }
        }
      ]
    },
    {
      "cell_type": "code",
      "metadata": {
        "colab": {
          "base_uri": "https://localhost:8080/"
        },
        "id": "CawMkwtaWJV4",
        "outputId": "7da00c3f-f4d9-4b31-b8c5-093f2b08187a"
      },
      "source": [
        "print(durs_)"
      ],
      "execution_count": null,
      "outputs": [
        {
          "output_type": "stream",
          "name": "stderr",
          "text": [
            "IOPub data rate exceeded.\n",
            "The notebook server will temporarily stop sending output\n",
            "to the client in order to avoid crashing it.\n",
            "To change this limit, set the config variable\n",
            "`--NotebookApp.iopub_data_rate_limit`.\n",
            "\n",
            "Current values:\n",
            "NotebookApp.iopub_data_rate_limit=1000000.0 (bytes/sec)\n",
            "NotebookApp.rate_limit_window=3.0 (secs)\n",
            "\n"
          ]
        }
      ]
    },
    {
      "cell_type": "code",
      "metadata": {
        "id": "sme7VPKKXG4a"
      },
      "source": [
        "def remove_infrequent_items(notes_array, frequent_notes):\n",
        "  new_music=[]\n",
        "\n",
        "  for notes in notes_array:\n",
        "      temp=[]\n",
        "      for note_ in notes:\n",
        "          if note_ in frequent_notes:\n",
        "              temp.append(note_)            \n",
        "      new_music.append(temp)\n",
        "      \n",
        "  new_music = np.array(new_music, dtype=object)\n",
        "  return new_music\n",
        "\n",
        "new_durs = remove_infrequent_items(durs_array, frequent_durs) \n",
        "new_music = remove_infrequent_items(notes_array, frequent_notes) \n"
      ],
      "execution_count": null,
      "outputs": []
    },
    {
      "cell_type": "code",
      "metadata": {
        "id": "b9F3K4GJXG4b"
      },
      "source": [
        "def timesteps(new_music):\n",
        "  no_of_timesteps = 32\n",
        "  x = []\n",
        "  y = []\n",
        "\n",
        "  for note_ in new_music:\n",
        "      for i in range(0, len(note_) - no_of_timesteps, 1):\n",
        "          \n",
        "          #preparing input and output sequences\n",
        "          input_ = note_[i:i + no_of_timesteps]\n",
        "          output = note_[i + no_of_timesteps]\n",
        "          \n",
        "          x.append(input_)\n",
        "          y.append(output)\n",
        "          \n",
        "  x=np.array(x)\n",
        "  y=np.array(y)\n",
        "  return x, y\n",
        "\n",
        "x_n, y_n = timesteps(new_music)\n",
        "x_d, y_d = timesteps(new_durs)\n",
        "\n"
      ],
      "execution_count": null,
      "outputs": []
    },
    {
      "cell_type": "code",
      "metadata": {
        "colab": {
          "base_uri": "https://localhost:8080/"
        },
        "id": "3Yufzk3mE2Xi",
        "outputId": "3706ee50-f314-4f44-a963-b48ce3012e93"
      },
      "source": [
        "print(np.shape(x_n))\n",
        "print(np.shape(x_d))"
      ],
      "execution_count": null,
      "outputs": [
        {
          "output_type": "stream",
          "name": "stdout",
          "text": [
            "(461168, 32)\n",
            "(463232, 32)\n"
          ]
        }
      ]
    },
    {
      "cell_type": "code",
      "metadata": {
        "id": "PO7HRGxJXG4b"
      },
      "source": [
        "def unique_and_nti(x):\n",
        "  unique_x = list(set(x.ravel()))\n",
        "  x_note_to_int = dict((note_, number) for number, note_ in enumerate(unique_x))\n",
        "  return unique_x, x_note_to_int\n",
        "\n",
        "unique_x_n, x_note_to_int_n = unique_and_nti(x_n)\n",
        "unique_x_d, x_note_to_int_d = unique_and_nti(x_d)"
      ],
      "execution_count": null,
      "outputs": []
    },
    {
      "cell_type": "code",
      "metadata": {
        "id": "SuyR7ODlXG4c"
      },
      "source": [
        "#preparing input sequences\n",
        "def prepseq(x, x_note_to_int):\n",
        "  x_seq=[]\n",
        "  for i in x:\n",
        "      temp=[]\n",
        "      for j in i:\n",
        "          #assigning unique integer to every note\n",
        "          temp.append(x_note_to_int[j])\n",
        "      x_seq.append(temp)\n",
        "      \n",
        "  x_seq = np.array(x_seq)\n",
        "  return x_seq\n",
        "\n",
        "x_seq_n = prepseq(x_n, x_note_to_int_n)\n",
        "x_seq_d = np.asarray(x_d)"
      ],
      "execution_count": null,
      "outputs": []
    },
    {
      "cell_type": "code",
      "metadata": {
        "id": "Xo0d1pCJXG4c"
      },
      "source": [
        "def unique_y_func(y):\n",
        "  unique_y = list(set(y))\n",
        "  y_note_to_int = dict((note_, number) for number, note_ in enumerate(unique_y)) \n",
        "  y_seq=np.array([y_note_to_int[i] for i in y])\n",
        "  return unique_y, y_note_to_int, y_seq\n",
        "\n",
        "unique_y_n, y_note_to_int_n, y_seq_n = unique_y_func(y_n)\n",
        "unique_y_d, y_note_to_int_d, y_seq_d = unique_y_func(y_d)\n",
        "y_seq_d = np.asarray(y_d)\n",
        "\n"
      ],
      "execution_count": null,
      "outputs": []
    },
    {
      "cell_type": "code",
      "metadata": {
        "colab": {
          "base_uri": "https://localhost:8080/"
        },
        "id": "G7Rm8ILDSEN1",
        "outputId": "6a1d6677-b184-4196-c3c3-de200884fc22"
      },
      "source": [
        "print(np.shape(x_seq_d))\n",
        "print(np.shape(y_seq_d))"
      ],
      "execution_count": null,
      "outputs": [
        {
          "output_type": "stream",
          "name": "stdout",
          "text": [
            "(463232, 32)\n",
            "(463232,)\n"
          ]
        }
      ]
    },
    {
      "cell_type": "code",
      "metadata": {
        "id": "INqMnYITSKZL"
      },
      "source": [
        "from sklearn.model_selection import train_test_split\n",
        "#x_tr, x_val, y_tr, y_val = train_test_split(x_seq,y_seq,test_size=0.2,random_state=0)\n",
        "\n",
        "x_tr_n, x_val_n, y_tr_n, y_val_n = train_test_split(x_seq_n,y_seq_n,test_size=0.2,random_state=0)\n",
        "x_tr_d, x_val_d, y_tr_d, y_val_d = train_test_split(x_seq_d,y_seq_d,test_size=0.2,random_state=0)"
      ],
      "execution_count": null,
      "outputs": []
    },
    {
      "cell_type": "code",
      "metadata": {
        "colab": {
          "base_uri": "https://localhost:8080/"
        },
        "id": "yfFczdb4E_Wo",
        "outputId": "30ad21d8-f22f-42b5-e924-a6192ef01697"
      },
      "source": [
        "print(np.shape(x_tr_n))\n",
        "print(np.shape(x_tr_d))\n",
        "\n",
        "print(np.shape(x_val_n))\n",
        "print(np.shape(x_val_d))\n",
        "\n",
        "print(np.shape(y_tr_n))\n",
        "print(np.shape(y_tr_d))\n",
        "\n",
        "print(np.shape(y_val_n))\n",
        "print(np.shape(y_val_d))"
      ],
      "execution_count": null,
      "outputs": [
        {
          "output_type": "stream",
          "name": "stdout",
          "text": [
            "(368934, 32)\n",
            "(370585, 32)\n",
            "(92234, 32)\n",
            "(92647, 32)\n",
            "(368934,)\n",
            "(370585,)\n",
            "(92234,)\n",
            "(92647,)\n"
          ]
        }
      ]
    },
    {
      "cell_type": "code",
      "metadata": {
        "id": "iGlta6QGXG4d"
      },
      "source": [
        "def lstm():\n",
        "  model = Sequential()\n",
        "  model.add(LSTM(128,return_sequences=True))\n",
        "  model.add(LSTM(128))\n",
        "  model.add(Dense(256))\n",
        "  model.add(Activation('relu'))\n",
        "  model.add(Dense(n_vocab))\n",
        "  model.add(Activation('softmax'))\n",
        "  model.compile(loss='sparse_categorical_crossentropy', optimizer='adam')\n",
        "  return model"
      ],
      "execution_count": null,
      "outputs": []
    },
    {
      "cell_type": "code",
      "metadata": {
        "colab": {
          "base_uri": "https://localhost:8080/"
        },
        "id": "e9OGY1jDXG4d",
        "outputId": "e356abb4-190d-490a-e287-70d386fed705"
      },
      "source": [
        "from keras.layers import *\n",
        "from keras.models import *\n",
        "from keras.callbacks import *\n",
        "import keras.backend as K\n",
        "\n",
        "K.clear_session()\n",
        "model = Sequential()\n",
        "    \n",
        "#embedding layer\n",
        "model.add(Embedding(len(unique_x_n), 100, input_length=32,trainable=True)) \n",
        "\n",
        "model.add(Conv1D(64,3, padding='causal',activation='relu'))\n",
        "model.add(Dropout(0.2))\n",
        "model.add(MaxPool1D(2))\n",
        "    \n",
        "model.add(Conv1D(128,3,activation='relu',dilation_rate=2,padding='causal'))\n",
        "model.add(Dropout(0.2))\n",
        "model.add(MaxPool1D(2))\n",
        "\n",
        "model.add(Conv1D(256,3,activation='relu',dilation_rate=4,padding='causal'))\n",
        "model.add(Dropout(0.2))\n",
        "model.add(MaxPool1D(2))\n",
        "          \n",
        "#model.add(Conv1D(256,5,activation='relu'))    \n",
        "model.add(GlobalMaxPool1D())\n",
        "    \n",
        "model.add(Dense(256, activation='relu'))\n",
        "model.add(Dense(len(unique_y_n), activation='softmax'))\n",
        "    \n",
        "model.compile(loss='sparse_categorical_crossentropy', optimizer='adam')\n",
        "\n",
        "model.summary()"
      ],
      "execution_count": null,
      "outputs": [
        {
          "output_type": "stream",
          "name": "stdout",
          "text": [
            "Model: \"sequential\"\n",
            "_________________________________________________________________\n",
            "Layer (type)                 Output Shape              Param #   \n",
            "=================================================================\n",
            "embedding (Embedding)        (None, 32, 100)           23300     \n",
            "_________________________________________________________________\n",
            "conv1d (Conv1D)              (None, 32, 64)            19264     \n",
            "_________________________________________________________________\n",
            "dropout (Dropout)            (None, 32, 64)            0         \n",
            "_________________________________________________________________\n",
            "max_pooling1d (MaxPooling1D) (None, 16, 64)            0         \n",
            "_________________________________________________________________\n",
            "conv1d_1 (Conv1D)            (None, 16, 128)           24704     \n",
            "_________________________________________________________________\n",
            "dropout_1 (Dropout)          (None, 16, 128)           0         \n",
            "_________________________________________________________________\n",
            "max_pooling1d_1 (MaxPooling1 (None, 8, 128)            0         \n",
            "_________________________________________________________________\n",
            "conv1d_2 (Conv1D)            (None, 8, 256)            98560     \n",
            "_________________________________________________________________\n",
            "dropout_2 (Dropout)          (None, 8, 256)            0         \n",
            "_________________________________________________________________\n",
            "max_pooling1d_2 (MaxPooling1 (None, 4, 256)            0         \n",
            "_________________________________________________________________\n",
            "global_max_pooling1d (Global (None, 256)               0         \n",
            "_________________________________________________________________\n",
            "dense (Dense)                (None, 256)               65792     \n",
            "_________________________________________________________________\n",
            "dense_1 (Dense)              (None, 233)               59881     \n",
            "=================================================================\n",
            "Total params: 291,501\n",
            "Trainable params: 291,501\n",
            "Non-trainable params: 0\n",
            "_________________________________________________________________\n"
          ]
        }
      ]
    },
    {
      "cell_type": "code",
      "metadata": {
        "id": "nBC4sHV_XG4e"
      },
      "source": [
        "mc_n = [EarlyStopping(monitor='val_loss', patience=5, mode='min', min_delta=0.0001),\n",
        "      ModelCheckpoint('best_model_n.h5', monitor='val_loss', mode='min', save_best_only=True,\n",
        "                   verbose=1)]"
      ],
      "execution_count": null,
      "outputs": []
    },
    {
      "cell_type": "code",
      "metadata": {
        "scrolled": false,
        "colab": {
          "base_uri": "https://localhost:8080/"
        },
        "id": "-THtdI7tXG4e",
        "outputId": "1a530f71-cbf5-4c49-b68a-786e4e33f8a9"
      },
      "source": [
        "history_n = model.fit(np.array(x_tr_n),np.array(y_tr_n),batch_size=128,epochs=50, validation_data=(np.array(x_val_n),np.array(y_val_n)),verbose=1, callbacks=[mc_n])\n"
      ],
      "execution_count": null,
      "outputs": [
        {
          "output_type": "stream",
          "name": "stdout",
          "text": [
            "Epoch 1/50\n",
            "2883/2883 [==============================] - 260s 90ms/step - loss: 3.9528 - val_loss: 3.8392\n",
            "\n",
            "Epoch 00001: val_loss improved from inf to 3.83917, saving model to best_model_n.h5\n",
            "Epoch 2/50\n",
            "2883/2883 [==============================] - 258s 90ms/step - loss: 3.6748 - val_loss: 3.6882\n",
            "\n",
            "Epoch 00002: val_loss improved from 3.83917 to 3.68821, saving model to best_model_n.h5\n",
            "Epoch 3/50\n",
            "2883/2883 [==============================] - 260s 90ms/step - loss: 3.5905 - val_loss: 3.6421\n",
            "\n",
            "Epoch 00003: val_loss improved from 3.68821 to 3.64208, saving model to best_model_n.h5\n",
            "Epoch 4/50\n",
            "2883/2883 [==============================] - 260s 90ms/step - loss: 3.5382 - val_loss: 3.5751\n",
            "\n",
            "Epoch 00004: val_loss improved from 3.64208 to 3.57510, saving model to best_model_n.h5\n",
            "Epoch 5/50\n",
            "2883/2883 [==============================] - 259s 90ms/step - loss: 3.5014 - val_loss: 3.5323\n",
            "\n",
            "Epoch 00005: val_loss improved from 3.57510 to 3.53233, saving model to best_model_n.h5\n",
            "Epoch 6/50\n",
            "2883/2883 [==============================] - 261s 91ms/step - loss: 3.4713 - val_loss: 3.5166\n",
            "\n",
            "Epoch 00006: val_loss improved from 3.53233 to 3.51659, saving model to best_model_n.h5\n",
            "Epoch 7/50\n",
            "2883/2883 [==============================] - 262s 91ms/step - loss: 3.4481 - val_loss: 3.4921\n",
            "\n",
            "Epoch 00007: val_loss improved from 3.51659 to 3.49206, saving model to best_model_n.h5\n",
            "Epoch 8/50\n",
            "2883/2883 [==============================] - 259s 90ms/step - loss: 3.4307 - val_loss: 3.4697\n",
            "\n",
            "Epoch 00008: val_loss improved from 3.49206 to 3.46967, saving model to best_model_n.h5\n",
            "Epoch 9/50\n",
            "2883/2883 [==============================] - 260s 90ms/step - loss: 3.4163 - val_loss: 3.4621\n",
            "\n",
            "Epoch 00009: val_loss improved from 3.46967 to 3.46212, saving model to best_model_n.h5\n",
            "Epoch 10/50\n",
            "2883/2883 [==============================] - 259s 90ms/step - loss: 3.4046 - val_loss: 3.4736\n",
            "\n",
            "Epoch 00010: val_loss did not improve from 3.46212\n",
            "Epoch 11/50\n",
            "2883/2883 [==============================] - 263s 91ms/step - loss: 3.3921 - val_loss: 3.4465\n",
            "\n",
            "Epoch 00011: val_loss improved from 3.46212 to 3.44651, saving model to best_model_n.h5\n",
            "Epoch 12/50\n",
            "2883/2883 [==============================] - 261s 91ms/step - loss: 3.3839 - val_loss: 3.4284\n",
            "\n",
            "Epoch 00012: val_loss improved from 3.44651 to 3.42840, saving model to best_model_n.h5\n",
            "Epoch 13/50\n",
            "2883/2883 [==============================] - 259s 90ms/step - loss: 3.3754 - val_loss: 3.4321\n",
            "\n",
            "Epoch 00013: val_loss did not improve from 3.42840\n",
            "Epoch 14/50\n",
            "2883/2883 [==============================] - 262s 91ms/step - loss: 3.3695 - val_loss: 3.4247\n",
            "\n",
            "Epoch 00014: val_loss improved from 3.42840 to 3.42473, saving model to best_model_n.h5\n",
            "Epoch 15/50\n",
            "2883/2883 [==============================] - 263s 91ms/step - loss: 3.3651 - val_loss: 3.4356\n",
            "\n",
            "Epoch 00015: val_loss did not improve from 3.42473\n",
            "Epoch 16/50\n",
            "2883/2883 [==============================] - 264s 92ms/step - loss: 3.3580 - val_loss: 3.4130\n",
            "\n",
            "Epoch 00016: val_loss improved from 3.42473 to 3.41303, saving model to best_model_n.h5\n",
            "Epoch 17/50\n",
            "2883/2883 [==============================] - 261s 90ms/step - loss: 3.3530 - val_loss: 3.4160\n",
            "\n",
            "Epoch 00017: val_loss did not improve from 3.41303\n",
            "Epoch 18/50\n",
            "2883/2883 [==============================] - 262s 91ms/step - loss: 3.3489 - val_loss: 3.4179\n",
            "\n",
            "Epoch 00018: val_loss did not improve from 3.41303\n",
            "Epoch 19/50\n",
            "2883/2883 [==============================] - 262s 91ms/step - loss: 3.3422 - val_loss: 3.4121\n",
            "\n",
            "Epoch 00019: val_loss improved from 3.41303 to 3.41212, saving model to best_model_n.h5\n",
            "Epoch 20/50\n",
            "2883/2883 [==============================] - 262s 91ms/step - loss: 3.3407 - val_loss: 3.4067\n",
            "\n",
            "Epoch 00020: val_loss improved from 3.41212 to 3.40667, saving model to best_model_n.h5\n",
            "Epoch 21/50\n",
            "2883/2883 [==============================] - 258s 89ms/step - loss: 3.3372 - val_loss: 3.4057\n",
            "\n",
            "Epoch 00021: val_loss improved from 3.40667 to 3.40570, saving model to best_model_n.h5\n",
            "Epoch 22/50\n",
            "2883/2883 [==============================] - 257s 89ms/step - loss: 3.3357 - val_loss: 3.4053\n",
            "\n",
            "Epoch 00022: val_loss improved from 3.40570 to 3.40527, saving model to best_model_n.h5\n",
            "Epoch 23/50\n",
            "2883/2883 [==============================] - 259s 90ms/step - loss: 3.3323 - val_loss: 3.3965\n",
            "\n",
            "Epoch 00023: val_loss improved from 3.40527 to 3.39648, saving model to best_model_n.h5\n",
            "Epoch 24/50\n",
            "2883/2883 [==============================] - 256s 89ms/step - loss: 3.3279 - val_loss: 3.4052\n",
            "\n",
            "Epoch 00024: val_loss did not improve from 3.39648\n",
            "Epoch 25/50\n",
            "2883/2883 [==============================] - 258s 89ms/step - loss: 3.3257 - val_loss: 3.3944\n",
            "\n",
            "Epoch 00025: val_loss improved from 3.39648 to 3.39444, saving model to best_model_n.h5\n",
            "Epoch 26/50\n",
            "2883/2883 [==============================] - 258s 89ms/step - loss: 3.3237 - val_loss: 3.3943\n",
            "\n",
            "Epoch 00026: val_loss improved from 3.39444 to 3.39427, saving model to best_model_n.h5\n",
            "Epoch 27/50\n",
            "2883/2883 [==============================] - 258s 89ms/step - loss: 3.3219 - val_loss: 3.4014\n",
            "\n",
            "Epoch 00027: val_loss did not improve from 3.39427\n",
            "Epoch 28/50\n",
            "2883/2883 [==============================] - 261s 90ms/step - loss: 3.3196 - val_loss: 3.3888\n",
            "\n",
            "Epoch 00028: val_loss improved from 3.39427 to 3.38884, saving model to best_model_n.h5\n",
            "Epoch 29/50\n",
            "2883/2883 [==============================] - 259s 90ms/step - loss: 3.3158 - val_loss: 3.3812\n",
            "\n",
            "Epoch 00029: val_loss improved from 3.38884 to 3.38123, saving model to best_model_n.h5\n",
            "Epoch 30/50\n",
            "2883/2883 [==============================] - 261s 91ms/step - loss: 3.3144 - val_loss: 3.3949\n",
            "\n",
            "Epoch 00030: val_loss did not improve from 3.38123\n",
            "Epoch 31/50\n",
            "2883/2883 [==============================] - 264s 91ms/step - loss: 3.3123 - val_loss: 3.3916\n",
            "\n",
            "Epoch 00031: val_loss did not improve from 3.38123\n",
            "Epoch 32/50\n",
            "2883/2883 [==============================] - 263s 91ms/step - loss: 3.3106 - val_loss: 3.3856\n",
            "\n",
            "Epoch 00032: val_loss did not improve from 3.38123\n",
            "Epoch 33/50\n",
            "2883/2883 [==============================] - 262s 91ms/step - loss: 3.3125 - val_loss: 3.3803\n",
            "\n",
            "Epoch 00033: val_loss improved from 3.38123 to 3.38030, saving model to best_model_n.h5\n",
            "Epoch 34/50\n",
            "2883/2883 [==============================] - 260s 90ms/step - loss: 3.3093 - val_loss: 3.3850\n",
            "\n",
            "Epoch 00034: val_loss did not improve from 3.38030\n",
            "Epoch 35/50\n",
            "2883/2883 [==============================] - 260s 90ms/step - loss: 3.3075 - val_loss: 3.3905\n",
            "\n",
            "Epoch 00035: val_loss did not improve from 3.38030\n",
            "Epoch 36/50\n",
            "2883/2883 [==============================] - 262s 91ms/step - loss: 3.3075 - val_loss: 3.3752\n",
            "\n",
            "Epoch 00036: val_loss improved from 3.38030 to 3.37515, saving model to best_model_n.h5\n",
            "Epoch 37/50\n",
            "2883/2883 [==============================] - 258s 90ms/step - loss: 3.3054 - val_loss: 3.3879\n",
            "\n",
            "Epoch 00037: val_loss did not improve from 3.37515\n",
            "Epoch 38/50\n",
            "2883/2883 [==============================] - 259s 90ms/step - loss: 3.3037 - val_loss: 3.3730\n",
            "\n",
            "Epoch 00038: val_loss improved from 3.37515 to 3.37296, saving model to best_model_n.h5\n",
            "Epoch 39/50\n",
            "2883/2883 [==============================] - 260s 90ms/step - loss: 3.3020 - val_loss: 3.3782\n",
            "\n",
            "Epoch 00039: val_loss did not improve from 3.37296\n",
            "Epoch 40/50\n",
            "2883/2883 [==============================] - 260s 90ms/step - loss: 3.3001 - val_loss: 3.3888\n",
            "\n",
            "Epoch 00040: val_loss did not improve from 3.37296\n",
            "Epoch 41/50\n",
            "2883/2883 [==============================] - 259s 90ms/step - loss: 3.3007 - val_loss: 3.3919\n",
            "\n",
            "Epoch 00041: val_loss did not improve from 3.37296\n",
            "Epoch 42/50\n",
            "2883/2883 [==============================] - 261s 90ms/step - loss: 3.2985 - val_loss: 3.3867\n",
            "\n",
            "Epoch 00042: val_loss did not improve from 3.37296\n",
            "Epoch 43/50\n",
            "2883/2883 [==============================] - 261s 91ms/step - loss: 3.2991 - val_loss: 3.3719\n",
            "\n",
            "Epoch 00043: val_loss improved from 3.37296 to 3.37194, saving model to best_model_n.h5\n",
            "Epoch 44/50\n",
            "2883/2883 [==============================] - 261s 91ms/step - loss: 3.2980 - val_loss: 3.3744\n",
            "\n",
            "Epoch 00044: val_loss did not improve from 3.37194\n",
            "Epoch 45/50\n",
            "2883/2883 [==============================] - 261s 90ms/step - loss: 3.2974 - val_loss: 3.3649\n",
            "\n",
            "Epoch 00045: val_loss improved from 3.37194 to 3.36489, saving model to best_model_n.h5\n",
            "Epoch 46/50\n",
            "2883/2883 [==============================] - 262s 91ms/step - loss: 3.2967 - val_loss: 3.3834\n",
            "\n",
            "Epoch 00046: val_loss did not improve from 3.36489\n",
            "Epoch 47/50\n",
            "2883/2883 [==============================] - 262s 91ms/step - loss: 3.2963 - val_loss: 3.3735\n",
            "\n",
            "Epoch 00047: val_loss did not improve from 3.36489\n",
            "Epoch 48/50\n",
            "2883/2883 [==============================] - 260s 90ms/step - loss: 3.2943 - val_loss: 3.3700\n",
            "\n",
            "Epoch 00048: val_loss did not improve from 3.36489\n",
            "Epoch 49/50\n",
            "2883/2883 [==============================] - 263s 91ms/step - loss: 3.2956 - val_loss: 3.3755\n",
            "\n",
            "Epoch 00049: val_loss did not improve from 3.36489\n",
            "Epoch 50/50\n",
            "2883/2883 [==============================] - 263s 91ms/step - loss: 3.2964 - val_loss: 3.3838\n",
            "\n",
            "Epoch 00050: val_loss did not improve from 3.36489\n"
          ]
        }
      ]
    },
    {
      "cell_type": "code",
      "metadata": {
        "colab": {
          "base_uri": "https://localhost:8080/",
          "height": 17
        },
        "id": "CQvgiE_k4Ai2",
        "outputId": "1cdce368-0227-4383-d068-86f27c434015"
      },
      "source": [
        "from google.colab import files\n",
        "saveFile = open(\"x_val_n_save.txt\", \"w\")\n",
        "for val in x_val_n:\n",
        "  saveFile.write(str(val)+',')\n",
        "files.download('x_val_n_save.txt') \n",
        "saveFile = open(\"x_val_d_save.txt\", \"w\")\n",
        "for val in x_val_d:\n",
        "  saveFile.write(str(val)+',')\n",
        "files.download('x_val_d_save.txt')\n",
        "files.download('best_model_n.h5')"
      ],
      "execution_count": null,
      "outputs": [
        {
          "output_type": "display_data",
          "data": {
            "application/javascript": [
              "\n",
              "    async function download(id, filename, size) {\n",
              "      if (!google.colab.kernel.accessAllowed) {\n",
              "        return;\n",
              "      }\n",
              "      const div = document.createElement('div');\n",
              "      const label = document.createElement('label');\n",
              "      label.textContent = `Downloading \"${filename}\": `;\n",
              "      div.appendChild(label);\n",
              "      const progress = document.createElement('progress');\n",
              "      progress.max = size;\n",
              "      div.appendChild(progress);\n",
              "      document.body.appendChild(div);\n",
              "\n",
              "      const buffers = [];\n",
              "      let downloaded = 0;\n",
              "\n",
              "      const channel = await google.colab.kernel.comms.open(id);\n",
              "      // Send a message to notify the kernel that we're ready.\n",
              "      channel.send({})\n",
              "\n",
              "      for await (const message of channel.messages) {\n",
              "        // Send a message to notify the kernel that we're ready.\n",
              "        channel.send({})\n",
              "        if (message.buffers) {\n",
              "          for (const buffer of message.buffers) {\n",
              "            buffers.push(buffer);\n",
              "            downloaded += buffer.byteLength;\n",
              "            progress.value = downloaded;\n",
              "          }\n",
              "        }\n",
              "      }\n",
              "      const blob = new Blob(buffers, {type: 'application/binary'});\n",
              "      const a = document.createElement('a');\n",
              "      a.href = window.URL.createObjectURL(blob);\n",
              "      a.download = filename;\n",
              "      div.appendChild(a);\n",
              "      a.click();\n",
              "      div.remove();\n",
              "    }\n",
              "  "
            ],
            "text/plain": [
              "<IPython.core.display.Javascript object>"
            ]
          },
          "metadata": {}
        },
        {
          "output_type": "display_data",
          "data": {
            "application/javascript": [
              "download(\"download_46bf0cee-7825-4496-907b-4d08356fd4ce\", \"x_val_n_save.txt\", 12082264)"
            ],
            "text/plain": [
              "<IPython.core.display.Javascript object>"
            ]
          },
          "metadata": {}
        },
        {
          "output_type": "display_data",
          "data": {
            "application/javascript": [
              "\n",
              "    async function download(id, filename, size) {\n",
              "      if (!google.colab.kernel.accessAllowed) {\n",
              "        return;\n",
              "      }\n",
              "      const div = document.createElement('div');\n",
              "      const label = document.createElement('label');\n",
              "      label.textContent = `Downloading \"${filename}\": `;\n",
              "      div.appendChild(label);\n",
              "      const progress = document.createElement('progress');\n",
              "      progress.max = size;\n",
              "      div.appendChild(progress);\n",
              "      document.body.appendChild(div);\n",
              "\n",
              "      const buffers = [];\n",
              "      let downloaded = 0;\n",
              "\n",
              "      const channel = await google.colab.kernel.comms.open(id);\n",
              "      // Send a message to notify the kernel that we're ready.\n",
              "      channel.send({})\n",
              "\n",
              "      for await (const message of channel.messages) {\n",
              "        // Send a message to notify the kernel that we're ready.\n",
              "        channel.send({})\n",
              "        if (message.buffers) {\n",
              "          for (const buffer of message.buffers) {\n",
              "            buffers.push(buffer);\n",
              "            downloaded += buffer.byteLength;\n",
              "            progress.value = downloaded;\n",
              "          }\n",
              "        }\n",
              "      }\n",
              "      const blob = new Blob(buffers, {type: 'application/binary'});\n",
              "      const a = document.createElement('a');\n",
              "      a.href = window.URL.createObjectURL(blob);\n",
              "      a.download = filename;\n",
              "      div.appendChild(a);\n",
              "      a.click();\n",
              "      div.remove();\n",
              "    }\n",
              "  "
            ],
            "text/plain": [
              "<IPython.core.display.Javascript object>"
            ]
          },
          "metadata": {}
        },
        {
          "output_type": "display_data",
          "data": {
            "application/javascript": [
              "download(\"download_2eaea8f3-f3f9-4e5f-bbed-b923d53f31bd\", \"x_val_d_save.txt\", 23382821)"
            ],
            "text/plain": [
              "<IPython.core.display.Javascript object>"
            ]
          },
          "metadata": {}
        },
        {
          "output_type": "display_data",
          "data": {
            "application/javascript": [
              "\n",
              "    async function download(id, filename, size) {\n",
              "      if (!google.colab.kernel.accessAllowed) {\n",
              "        return;\n",
              "      }\n",
              "      const div = document.createElement('div');\n",
              "      const label = document.createElement('label');\n",
              "      label.textContent = `Downloading \"${filename}\": `;\n",
              "      div.appendChild(label);\n",
              "      const progress = document.createElement('progress');\n",
              "      progress.max = size;\n",
              "      div.appendChild(progress);\n",
              "      document.body.appendChild(div);\n",
              "\n",
              "      const buffers = [];\n",
              "      let downloaded = 0;\n",
              "\n",
              "      const channel = await google.colab.kernel.comms.open(id);\n",
              "      // Send a message to notify the kernel that we're ready.\n",
              "      channel.send({})\n",
              "\n",
              "      for await (const message of channel.messages) {\n",
              "        // Send a message to notify the kernel that we're ready.\n",
              "        channel.send({})\n",
              "        if (message.buffers) {\n",
              "          for (const buffer of message.buffers) {\n",
              "            buffers.push(buffer);\n",
              "            downloaded += buffer.byteLength;\n",
              "            progress.value = downloaded;\n",
              "          }\n",
              "        }\n",
              "      }\n",
              "      const blob = new Blob(buffers, {type: 'application/binary'});\n",
              "      const a = document.createElement('a');\n",
              "      a.href = window.URL.createObjectURL(blob);\n",
              "      a.download = filename;\n",
              "      div.appendChild(a);\n",
              "      a.click();\n",
              "      div.remove();\n",
              "    }\n",
              "  "
            ],
            "text/plain": [
              "<IPython.core.display.Javascript object>"
            ]
          },
          "metadata": {}
        },
        {
          "output_type": "display_data",
          "data": {
            "application/javascript": [
              "download(\"download_ae4e1d7c-83d1-4e4e-a810-801621f511ec\", \"best_model_n.h5\", 3559604)"
            ],
            "text/plain": [
              "<IPython.core.display.Javascript object>"
            ]
          },
          "metadata": {}
        }
      ]
    },
    {
      "cell_type": "code",
      "metadata": {
        "colab": {
          "base_uri": "https://localhost:8080/"
        },
        "id": "kiWWZYGTx5Mf",
        "outputId": "f8cb13c1-14cc-4d04-9cb2-896dfb242a10"
      },
      "source": [
        "print(history_n.history.keys())"
      ],
      "execution_count": null,
      "outputs": [
        {
          "output_type": "stream",
          "name": "stdout",
          "text": [
            "dict_keys(['loss', 'val_loss'])\n"
          ]
        }
      ]
    },
    {
      "cell_type": "code",
      "metadata": {
        "colab": {
          "base_uri": "https://localhost:8080/",
          "height": 294
        },
        "id": "L_FcvEbDx7oc",
        "outputId": "d33df09f-e238-4dab-b611-7f342d780e8c"
      },
      "source": [
        "# summarize history for loss\n",
        "plt.plot(history_n.history['loss'])\n",
        "plt.plot(history_n.history['val_loss'])\n",
        "plt.title('model_n loss')\n",
        "plt.ylabel('loss')\n",
        "plt.xlabel('epoch')\n",
        "plt.legend(['train', 'test'], loc='upper left')\n",
        "plt.show()"
      ],
      "execution_count": null,
      "outputs": [
        {
          "output_type": "display_data",
          "data": {
            "image/png": "[encoded data removed]",
            "text/plain": [
              "<Figure size 432x288 with 1 Axes>"
            ]
          },
          "metadata": {
            "image/png": {
              "width": 385,
              "height": 277
            },
            "needs_background": "light"
          }
        }
      ]
    },
    {
      "cell_type": "code",
      "metadata": {
        "colab": {
          "base_uri": "https://localhost:8080/"
        },
        "id": "FWGG49dI8bnk",
        "outputId": "e8d07995-6254-4b2b-f471-d5e5822f9f9a"
      },
      "source": [
        "print(len(unique_x_d))\n",
        "print(np.shape(x_tr_d))\n",
        "\n",
        "print(len(unique_x_n))\n",
        "print(np.shape(x_tr_n))"
      ],
      "execution_count": null,
      "outputs": [
        {
          "output_type": "stream",
          "name": "stdout",
          "text": [
            "25\n",
            "(370585, 32)\n",
            "233\n",
            "(368934, 32)\n"
          ]
        }
      ]
    },
    {
      "cell_type": "code",
      "metadata": {
        "id": "cTJFpiJ9sFq0"
      },
      "source": [
        "def failed_dimension_adder():\n",
        "  #print(np.shape(x_tr_d))\n",
        "  #print(np.shape(x_val_d))\n",
        "\n",
        "  tt = np.array([[0]]*32, dtype=object)\n",
        "  #print('tt ',np.shape(tt))\n",
        "  tempt = np.array([tt]*len(x_tr_d), dtype=object)\n",
        "  #print('tempt ', np.shape(tempt))\n",
        "  tempv = [tt]*len(x_val_d)\n",
        "  for x in range(len(x_tr_d)):\n",
        "    tempboog = np.array([[0]]*32, dtype=object)\n",
        "    #print(np.shape(tempboog))\n",
        "    for y in range(32):\n",
        "      temper = [0]\n",
        "      temper[0] = x_tr_d[x][y]\n",
        "      tempboog[y] = temper\n",
        "    tempt[x] = tempboog\n",
        "    \n",
        "  for x in range(len(x_val_d)):\n",
        "    tempboog = np.array([[0]]*32, dtype=object)\n",
        "    #print(np.shape(tempboog))\n",
        "    for y in range(32):\n",
        "      temper = [0]\n",
        "      temper[0] = x_val_d[x][y]\n",
        "      tempboog[y] = temper\n",
        "    tempv[x] = tempboog\n",
        "\n",
        "  print('tempt post ', np.shape(tempt))\n",
        "  print('tempv post ', np.shape(tempv))\n",
        "  #x_tr_d = tempt\n",
        "  #x_val_d = tempv\n",
        "\n",
        "  print(np.shape(x_tr_d))\n",
        "  print(np.shape(x_val_d))\n"
      ],
      "execution_count": null,
      "outputs": []
    },
    {
      "cell_type": "code",
      "metadata": {
        "colab": {
          "base_uri": "https://localhost:8080/"
        },
        "id": "EyxoCA4JK2wF",
        "outputId": "87f707c9-d5f5-4a17-b384-0a049d5a247d"
      },
      "source": [
        "print(np.shape(x_tr_d))\n",
        "print(np.shape(x_val_d))\n",
        "\n",
        "x_tr_d = np.asarray(x_tr_d)\n",
        "x_tr_d = np.expand_dims(x_tr_d, -1)\n",
        "\n",
        "x_val_d = np.asarray(x_val_d)\n",
        "x_val_d = np.expand_dims(x_val_d, -1)\n",
        "\n",
        "print(np.shape(x_tr_d))\n",
        "print(np.shape(x_val_d))"
      ],
      "execution_count": null,
      "outputs": [
        {
          "output_type": "stream",
          "name": "stdout",
          "text": [
            "(370585, 32)\n",
            "(92647, 32)\n",
            "(370585, 32, 1)\n",
            "(92647, 32, 1)\n"
          ]
        }
      ]
    },
    {
      "cell_type": "code",
      "metadata": {
        "colab": {
          "base_uri": "https://localhost:8080/"
        },
        "id": "8MRc9JG_V7fE",
        "outputId": "7e4dfd54-0c16-447f-ed90-a5237458e04b"
      },
      "source": [
        "print(y_val_d[0:10])"
      ],
      "execution_count": null,
      "outputs": [
        {
          "output_type": "stream",
          "name": "stdout",
          "text": [
            "[0.25 0.5  0.25 0.75 0.25 0.5  0.5  0.25 0.25 0.25]\n"
          ]
        }
      ]
    },
    {
      "cell_type": "code",
      "metadata": {
        "colab": {
          "base_uri": "https://localhost:8080/"
        },
        "id": "gaqeRyO53O5F",
        "outputId": "250bd161-bc11-4a31-b305-9da569f99cf1"
      },
      "source": [
        "from keras.layers import *\n",
        "from keras.models import *\n",
        "from keras.callbacks import *\n",
        "import keras.backend as K\n",
        "\n",
        "K.clear_session()\n",
        "model_d = Sequential()\n",
        "    \n",
        "#embedding layer\n",
        "#model_d.add(Input((None,32, 1))) #, 100, input_length=32,trainable=True)\n",
        "#model_d.add(Embedding(len(unique_x_d), 100, input_length=32,trainable=True)) \n",
        "\n",
        "model_d.add(Conv1D(64,3, padding='causal',activation='relu', input_shape=(32,1))) #input_shape=(32,1,),,return_sequences=True)\n",
        "model_d.add(Dropout(0.2))\n",
        "model_d.add(MaxPool1D(2))\n",
        "    \n",
        "model_d.add(Conv1D(128,3,activation='relu',dilation_rate=2,padding='causal'))\n",
        "model_d.add(Dropout(0.2))\n",
        "model_d.add(MaxPool1D(2))\n",
        "\n",
        "model_d.add(Conv1D(256,3,activation='relu',dilation_rate=4,padding='causal'))\n",
        "model_d.add(Dropout(0.2))\n",
        "model_d.add(MaxPool1D(2))\n",
        "          \n",
        "#model.add(Conv1D(256,5,activation='relu'))    \n",
        "model_d.add(GlobalMaxPool1D())\n",
        "    \n",
        "model_d.add(Dense(256, activation='relu'))\n",
        "model_d.add(Dense(len(unique_y_d), activation='softmax'))\n",
        "    \n",
        "model_d.compile(loss='sparse_categorical_crossentropy', optimizer='adam')\n",
        "\n",
        "model_d.summary()\n",
        "\n",
        "mc_d = [EarlyStopping(monitor='val_loss', patience=5, mode='min', min_delta=0.0001),\n",
        "      ModelCheckpoint('best_model_d.h5', monitor='val_loss', mode='min', save_best_only=True,\n",
        "                   verbose=1)]\n",
        "\n"
      ],
      "execution_count": null,
      "outputs": [
        {
          "output_type": "stream",
          "name": "stdout",
          "text": [
            "Model: \"sequential\"\n",
            "_________________________________________________________________\n",
            "Layer (type)                 Output Shape              Param #   \n",
            "=================================================================\n",
            "conv1d (Conv1D)              (None, 32, 64)            256       \n",
            "_________________________________________________________________\n",
            "dropout (Dropout)            (None, 32, 64)            0         \n",
            "_________________________________________________________________\n",
            "max_pooling1d (MaxPooling1D) (None, 16, 64)            0         \n",
            "_________________________________________________________________\n",
            "conv1d_1 (Conv1D)            (None, 16, 128)           24704     \n",
            "_________________________________________________________________\n",
            "dropout_1 (Dropout)          (None, 16, 128)           0         \n",
            "_________________________________________________________________\n",
            "max_pooling1d_1 (MaxPooling1 (None, 8, 128)            0         \n",
            "_________________________________________________________________\n",
            "conv1d_2 (Conv1D)            (None, 8, 256)            98560     \n",
            "_________________________________________________________________\n",
            "dropout_2 (Dropout)          (None, 8, 256)            0         \n",
            "_________________________________________________________________\n",
            "max_pooling1d_2 (MaxPooling1 (None, 4, 256)            0         \n",
            "_________________________________________________________________\n",
            "global_max_pooling1d (Global (None, 256)               0         \n",
            "_________________________________________________________________\n",
            "dense (Dense)                (None, 256)               65792     \n",
            "_________________________________________________________________\n",
            "dense_1 (Dense)              (None, 12)                3084      \n",
            "=================================================================\n",
            "Total params: 192,396\n",
            "Trainable params: 192,396\n",
            "Non-trainable params: 0\n",
            "_________________________________________________________________\n"
          ]
        }
      ]
    },
    {
      "cell_type": "code",
      "metadata": {
        "colab": {
          "base_uri": "https://localhost:8080/"
        },
        "id": "2-jJhY7x7gTr",
        "outputId": "73d12a55-40ac-4106-a08a-358429a7e7d9"
      },
      "source": [
        "history_d = model_d.fit(np.array(x_tr_d),np.array(y_tr_d),batch_size=128,epochs=50, validation_data=(np.array(x_val_d),np.array(y_val_d)),verbose=1, callbacks=[mc_d])\n"
      ],
      "execution_count": null,
      "outputs": [
        {
          "output_type": "stream",
          "name": "stdout",
          "text": [
            "Epoch 1/50\n",
            "2896/2896 [==============================] - 211s 72ms/step - loss: 0.4767 - val_loss: 0.4951\n",
            "\n",
            "Epoch 00001: val_loss improved from inf to 0.49509, saving model to best_model_d.h5\n",
            "Epoch 2/50\n",
            "2896/2896 [==============================] - 208s 72ms/step - loss: 0.4501 - val_loss: 0.4747\n",
            "\n",
            "Epoch 00002: val_loss improved from 0.49509 to 0.47468, saving model to best_model_d.h5\n",
            "Epoch 3/50\n",
            "2896/2896 [==============================] - 207s 71ms/step - loss: 0.4431 - val_loss: 0.4452\n",
            "\n",
            "Epoch 00003: val_loss improved from 0.47468 to 0.44524, saving model to best_model_d.h5\n",
            "Epoch 4/50\n",
            "2896/2896 [==============================] - 208s 72ms/step - loss: 0.4373 - val_loss: 0.4605\n",
            "\n",
            "Epoch 00004: val_loss did not improve from 0.44524\n",
            "Epoch 5/50\n",
            "2896/2896 [==============================] - 208s 72ms/step - loss: 0.4323 - val_loss: 0.4249\n",
            "\n",
            "Epoch 00005: val_loss improved from 0.44524 to 0.42495, saving model to best_model_d.h5\n",
            "Epoch 6/50\n",
            "2896/2896 [==============================] - 207s 71ms/step - loss: 0.4272 - val_loss: 0.4244\n",
            "\n",
            "Epoch 00006: val_loss improved from 0.42495 to 0.42436, saving model to best_model_d.h5\n",
            "Epoch 7/50\n",
            "2896/2896 [==============================] - 209s 72ms/step - loss: 0.4237 - val_loss: 0.4171\n",
            "\n",
            "Epoch 00007: val_loss improved from 0.42436 to 0.41707, saving model to best_model_d.h5\n",
            "Epoch 8/50\n",
            "2896/2896 [==============================] - 207s 71ms/step - loss: 0.4202 - val_loss: 0.4167\n",
            "\n",
            "Epoch 00008: val_loss improved from 0.41707 to 0.41668, saving model to best_model_d.h5\n",
            "Epoch 9/50\n",
            "2896/2896 [==============================] - 207s 72ms/step - loss: 0.4175 - val_loss: 0.4161\n",
            "\n",
            "Epoch 00009: val_loss improved from 0.41668 to 0.41614, saving model to best_model_d.h5\n",
            "Epoch 10/50\n",
            "2896/2896 [==============================] - 210s 72ms/step - loss: 0.4142 - val_loss: 0.4082\n",
            "\n",
            "Epoch 00010: val_loss improved from 0.41614 to 0.40818, saving model to best_model_d.h5\n",
            "Epoch 11/50\n",
            "2896/2896 [==============================] - 208s 72ms/step - loss: 0.4122 - val_loss: 0.4088\n",
            "\n",
            "Epoch 00011: val_loss did not improve from 0.40818\n",
            "Epoch 12/50\n",
            "2896/2896 [==============================] - 207s 72ms/step - loss: 0.4101 - val_loss: 0.4046\n",
            "\n",
            "Epoch 00012: val_loss improved from 0.40818 to 0.40462, saving model to best_model_d.h5\n",
            "Epoch 13/50\n",
            "2896/2896 [==============================] - 212s 73ms/step - loss: 0.4073 - val_loss: 0.4041\n",
            "\n",
            "Epoch 00013: val_loss improved from 0.40462 to 0.40409, saving model to best_model_d.h5\n",
            "Epoch 14/50\n",
            "2896/2896 [==============================] - 210s 73ms/step - loss: 0.4055 - val_loss: 0.4037\n",
            "\n",
            "Epoch 00014: val_loss improved from 0.40409 to 0.40370, saving model to best_model_d.h5\n",
            "Epoch 15/50\n",
            "2896/2896 [==============================] - 207s 72ms/step - loss: 0.4035 - val_loss: 0.4009\n",
            "\n",
            "Epoch 00015: val_loss improved from 0.40370 to 0.40091, saving model to best_model_d.h5\n",
            "Epoch 16/50\n",
            "2896/2896 [==============================] - 211s 73ms/step - loss: 0.4019 - val_loss: 0.4005\n",
            "\n",
            "Epoch 00016: val_loss improved from 0.40091 to 0.40049, saving model to best_model_d.h5\n",
            "Epoch 17/50\n",
            "2896/2896 [==============================] - 208s 72ms/step - loss: 0.4004 - val_loss: 0.3992\n",
            "\n",
            "Epoch 00017: val_loss improved from 0.40049 to 0.39922, saving model to best_model_d.h5\n",
            "Epoch 18/50\n",
            "2896/2896 [==============================] - 209s 72ms/step - loss: 0.3997 - val_loss: 0.3953\n",
            "\n",
            "Epoch 00018: val_loss improved from 0.39922 to 0.39533, saving model to best_model_d.h5\n",
            "Epoch 19/50\n",
            "2896/2896 [==============================] - 208s 72ms/step - loss: 0.3981 - val_loss: 0.3960\n",
            "\n",
            "Epoch 00019: val_loss did not improve from 0.39533\n",
            "Epoch 20/50\n",
            "2896/2896 [==============================] - 209s 72ms/step - loss: 0.3963 - val_loss: 0.3964\n",
            "\n",
            "Epoch 00020: val_loss did not improve from 0.39533\n",
            "Epoch 21/50\n",
            "2896/2896 [==============================] - 209s 72ms/step - loss: 0.3961 - val_loss: 0.3947\n",
            "\n",
            "Epoch 00021: val_loss improved from 0.39533 to 0.39472, saving model to best_model_d.h5\n",
            "Epoch 22/50\n",
            "2896/2896 [==============================] - 209s 72ms/step - loss: 0.3942 - val_loss: 0.3927\n",
            "\n",
            "Epoch 00022: val_loss improved from 0.39472 to 0.39270, saving model to best_model_d.h5\n",
            "Epoch 23/50\n",
            "2896/2896 [==============================] - 210s 73ms/step - loss: 0.3939 - val_loss: 0.3941\n",
            "\n",
            "Epoch 00023: val_loss did not improve from 0.39270\n",
            "Epoch 24/50\n",
            "2896/2896 [==============================] - 215s 74ms/step - loss: 0.3920 - val_loss: 0.3911\n",
            "\n",
            "Epoch 00024: val_loss improved from 0.39270 to 0.39108, saving model to best_model_d.h5\n",
            "Epoch 25/50\n",
            "2896/2896 [==============================] - 213s 74ms/step - loss: 0.3911 - val_loss: 0.3947\n",
            "\n",
            "Epoch 00025: val_loss did not improve from 0.39108\n",
            "Epoch 26/50\n",
            "2896/2896 [==============================] - 210s 73ms/step - loss: 0.3902 - val_loss: 0.3950\n",
            "\n",
            "Epoch 00026: val_loss did not improve from 0.39108\n",
            "Epoch 27/50\n",
            "2896/2896 [==============================] - 215s 74ms/step - loss: 0.3891 - val_loss: 0.3887\n",
            "\n",
            "Epoch 00027: val_loss improved from 0.39108 to 0.38869, saving model to best_model_d.h5\n",
            "Epoch 28/50\n",
            "2896/2896 [==============================] - 216s 75ms/step - loss: 0.3882 - val_loss: 0.3866\n",
            "\n",
            "Epoch 00028: val_loss improved from 0.38869 to 0.38662, saving model to best_model_d.h5\n",
            "Epoch 29/50\n",
            "2896/2896 [==============================] - 212s 73ms/step - loss: 0.3878 - val_loss: 0.3878\n",
            "\n",
            "Epoch 00029: val_loss did not improve from 0.38662\n",
            "Epoch 30/50\n",
            "2896/2896 [==============================] - 212s 73ms/step - loss: 0.3867 - val_loss: 0.3893\n",
            "\n",
            "Epoch 00030: val_loss did not improve from 0.38662\n",
            "Epoch 31/50\n",
            "2896/2896 [==============================] - 211s 73ms/step - loss: 0.3858 - val_loss: 0.3886\n",
            "\n",
            "Epoch 00031: val_loss did not improve from 0.38662\n",
            "Epoch 32/50\n",
            "2896/2896 [==============================] - 207s 71ms/step - loss: 0.3845 - val_loss: 0.3859\n",
            "\n",
            "Epoch 00032: val_loss improved from 0.38662 to 0.38590, saving model to best_model_d.h5\n",
            "Epoch 33/50\n",
            "2896/2896 [==============================] - 210s 72ms/step - loss: 0.3846 - val_loss: 0.3892\n",
            "\n",
            "Epoch 00033: val_loss did not improve from 0.38590\n",
            "Epoch 34/50\n",
            "2896/2896 [==============================] - 211s 73ms/step - loss: 0.3835 - val_loss: 0.3854\n",
            "\n",
            "Epoch 00034: val_loss improved from 0.38590 to 0.38537, saving model to best_model_d.h5\n",
            "Epoch 35/50\n",
            "2896/2896 [==============================] - 210s 73ms/step - loss: 0.3831 - val_loss: 0.3839\n",
            "\n",
            "Epoch 00035: val_loss improved from 0.38537 to 0.38389, saving model to best_model_d.h5\n",
            "Epoch 36/50\n",
            "2896/2896 [==============================] - 211s 73ms/step - loss: 0.3819 - val_loss: 0.3873\n",
            "\n",
            "Epoch 00036: val_loss did not improve from 0.38389\n",
            "Epoch 37/50\n",
            "2896/2896 [==============================] - 209s 72ms/step - loss: 0.3813 - val_loss: 0.3817\n",
            "\n",
            "Epoch 00037: val_loss improved from 0.38389 to 0.38170, saving model to best_model_d.h5\n",
            "Epoch 38/50\n",
            "2896/2896 [==============================] - 208s 72ms/step - loss: 0.3805 - val_loss: 0.3812\n",
            "\n",
            "Epoch 00038: val_loss improved from 0.38170 to 0.38120, saving model to best_model_d.h5\n",
            "Epoch 39/50\n",
            "2896/2896 [==============================] - 210s 72ms/step - loss: 0.3796 - val_loss: 0.3857\n",
            "\n",
            "Epoch 00039: val_loss did not improve from 0.38120\n",
            "Epoch 40/50\n",
            "2896/2896 [==============================] - 209s 72ms/step - loss: 0.3807 - val_loss: 0.3842\n",
            "\n",
            "Epoch 00040: val_loss did not improve from 0.38120\n",
            "Epoch 41/50\n",
            "2896/2896 [==============================] - 214s 74ms/step - loss: 0.3794 - val_loss: 0.3830\n",
            "\n",
            "Epoch 00041: val_loss did not improve from 0.38120\n",
            "Epoch 42/50\n",
            "2896/2896 [==============================] - 212s 73ms/step - loss: 0.3788 - val_loss: 0.3815\n",
            "\n",
            "Epoch 00042: val_loss did not improve from 0.38120\n",
            "Epoch 43/50\n",
            "2896/2896 [==============================] - 208s 72ms/step - loss: 0.3785 - val_loss: 0.3821\n",
            "\n",
            "Epoch 00043: val_loss did not improve from 0.38120\n"
          ]
        }
      ]
    },
    {
      "cell_type": "code",
      "metadata": {
        "id": "_UZuyLaj4qyy",
        "colab": {
          "base_uri": "https://localhost:8080/",
          "height": 294
        },
        "outputId": "7e1043f1-003e-4551-f498-334bf32d0880"
      },
      "source": [
        "# summarize history for loss\n",
        "plt.plot(history_d.history['loss'])\n",
        "plt.plot(history_d.history['val_loss'])\n",
        "plt.title('model_d loss')\n",
        "plt.ylabel('loss')\n",
        "plt.xlabel('epoch')\n",
        "plt.legend(['train', 'test'], loc='upper left')\n",
        "plt.show()"
      ],
      "execution_count": null,
      "outputs": [
        {
          "output_type": "display_data",
          "data": {
            "image/png": "[encoded data removed]",
            "text/plain": [
              "<Figure size 432x288 with 1 Axes>"
            ]
          },
          "metadata": {
            "image/png": {
              "width": 392,
              "height": 277
            },
            "needs_background": "light"
          }
        }
      ]
    },
    {
      "cell_type": "code",
      "metadata": {
        "id": "yXNvdgliptFC",
        "colab": {
          "base_uri": "https://localhost:8080/",
          "height": 17
        },
        "outputId": "0da6184a-db0c-4d47-f23e-de44660823a7"
      },
      "source": [
        "\n",
        "#from google.colab import files\n",
        "saveFile = open(\"unique_x_n_save.txt\", \"w\")\n",
        "for val in unique_x_n:\n",
        "  saveFile.write(str(val)+',')\n",
        "files.download('unique_x_n_save.txt') \n",
        "\n",
        "saveFile = open(\"unique_y_d_save.txt\", \"w\")\n",
        "for val in unique_y_d:\n",
        "  saveFile.write(str(val)+',')\n",
        "files.download('unique_y_d_save.txt')\n",
        "\n",
        "files.download('best_model_d.h5')\n",
        "\n"
      ],
      "execution_count": null,
      "outputs": [
        {
          "output_type": "display_data",
          "data": {
            "application/javascript": [
              "\n",
              "    async function download(id, filename, size) {\n",
              "      if (!google.colab.kernel.accessAllowed) {\n",
              "        return;\n",
              "      }\n",
              "      const div = document.createElement('div');\n",
              "      const label = document.createElement('label');\n",
              "      label.textContent = `Downloading \"${filename}\": `;\n",
              "      div.appendChild(label);\n",
              "      const progress = document.createElement('progress');\n",
              "      progress.max = size;\n",
              "      div.appendChild(progress);\n",
              "      document.body.appendChild(div);\n",
              "\n",
              "      const buffers = [];\n",
              "      let downloaded = 0;\n",
              "\n",
              "      const channel = await google.colab.kernel.comms.open(id);\n",
              "      // Send a message to notify the kernel that we're ready.\n",
              "      channel.send({})\n",
              "\n",
              "      for await (const message of channel.messages) {\n",
              "        // Send a message to notify the kernel that we're ready.\n",
              "        channel.send({})\n",
              "        if (message.buffers) {\n",
              "          for (const buffer of message.buffers) {\n",
              "            buffers.push(buffer);\n",
              "            downloaded += buffer.byteLength;\n",
              "            progress.value = downloaded;\n",
              "          }\n",
              "        }\n",
              "      }\n",
              "      const blob = new Blob(buffers, {type: 'application/binary'});\n",
              "      const a = document.createElement('a');\n",
              "      a.href = window.URL.createObjectURL(blob);\n",
              "      a.download = filename;\n",
              "      div.appendChild(a);\n",
              "      a.click();\n",
              "      div.remove();\n",
              "    }\n",
              "  "
            ],
            "text/plain": [
              "<IPython.core.display.Javascript object>"
            ]
          },
          "metadata": {}
        },
        {
          "output_type": "display_data",
          "data": {
            "application/javascript": [
              "download(\"download_ef02425e-9f4a-4389-9aeb-dbb2f515924b\", \"best_model_d.h5\", 2364552)"
            ],
            "text/plain": [
              "<IPython.core.display.Javascript object>"
            ]
          },
          "metadata": {}
        }
      ]
    },
    {
      "cell_type": "code",
      "metadata": {
        "scrolled": true,
        "id": "EjQGGlWKXG4f"
      },
      "source": [
        "#loading best model\n",
        "from keras.models import load_model\n",
        "model_n = load_model('best_model_n.h5')\n",
        "model_d = load_model('best_model_d.h5')\n",
        "import pandas as pd\n",
        "#x_val_n = pd.read_csv('x_val_n_save.txt')\n"
      ],
      "execution_count": null,
      "outputs": []
    },
    {
      "cell_type": "code",
      "metadata": {
        "id": "AyZRimanciWL"
      },
      "source": [
        "#x_val_d = pd.read_csv('x_val_d_save.txt', sep=',', header=None)\n",
        "\n",
        "file1 = open('x_val_d_save.txt', 'r')\n",
        "x_val_d = file1.read()\n",
        "file1.close()\n",
        "\n",
        "\n"
      ],
      "execution_count": null,
      "outputs": []
    },
    {
      "cell_type": "code",
      "metadata": {
        "id": "kS2uABNSoIiF"
      },
      "source": [
        "file2 = open('x_val_n_save.txt', 'r')\n",
        "x_val_n = file2.read()\n",
        "#file2.close()"
      ],
      "execution_count": null,
      "outputs": []
    },
    {
      "cell_type": "code",
      "metadata": {
        "colab": {
          "base_uri": "https://localhost:8080/"
        },
        "id": "SmO82wFOdrFD",
        "outputId": "3c76ac88-6efd-4c2c-9667-2e4cfceb66ef"
      },
      "source": [
        "def save_to_list(x_val_d, typee):\n",
        "  timestep_segs = x_val_d.split(',')\n",
        "  #print(timestep_segs[0])\n",
        "  #print(timestep_segs[0][0])\n",
        "  lister = []\n",
        "  np.asarray(lister, dtype=object)\n",
        "  for seg in timestep_segs:\n",
        "    segg = seg\n",
        "    np.asarray(segg, dtype = object)\n",
        "    temp = segg.strip('[')\n",
        "    temp1 = temp.strip(']')\n",
        "    temp2 = temp.split(' ')\n",
        "\n",
        "    indlist = []\n",
        "    for item in range(len(temp2)):\n",
        "      if temp2[item] == '':\n",
        "        indlist.append(item)\n",
        "    indlist.reverse()\n",
        "    for i in indlist:\n",
        "      temp2.pop(i)\n",
        "\n",
        "    if len(temp2) != 32 and len(temp2) != 33:\n",
        "      print(len(temp2))\n",
        "    for i in range(len(temp2)): #32\n",
        "      item = temp2[i]\n",
        "      item = item.strip()\n",
        "      item = item.strip('[')\n",
        "      item = item.strip(']')\n",
        "      if item != '' and item != '[' and item != ']':\n",
        "        if typee == 'float':\n",
        "          temp2[i] = float(item)\n",
        "        elif typee == 'int':\n",
        "          temp2[i] = int(item)\n",
        "\n",
        "    #print(np.shape(temp2))\n",
        "    if len(temp2) != 0:\n",
        "      if len(temp2) != 32:\n",
        "        temp2.pop()\n",
        "      lister.append(temp2)\n",
        "\n",
        "  print(np.shape(lister))\n",
        "  return lister\n",
        "\n",
        "  #print(np.shape(timestep_segs))\n",
        "\n",
        "x_val_d_temp = save_to_list(x_val_d, 'float')\n",
        "x_val_n_temp = save_to_list(x_val_n, 'int')"
      ],
      "execution_count": null,
      "outputs": [
        {
          "output_type": "stream",
          "name": "stdout",
          "text": [
            "0\n",
            "(92631, 32)\n",
            "0\n",
            "(92234, 32)\n"
          ]
        }
      ]
    },
    {
      "cell_type": "code",
      "metadata": {
        "id": "w3XBmKeBp_tt"
      },
      "source": [
        "x_val_d_temp = np.asarray(x_val_d_temp)\n",
        "#x_val_d_temp = np.expand_dims(x_val_d_temp, -1)\n",
        "\n",
        "x_val_n_temp = np.asarray(x_val_n_temp)\n",
        "#x_val_n_temp = np.expand_dims(x_val_n_temp, -1)"
      ],
      "execution_count": null,
      "outputs": []
    },
    {
      "cell_type": "code",
      "metadata": {
        "colab": {
          "base_uri": "https://localhost:8080/"
        },
        "id": "nu4cdPzEnCD4",
        "outputId": "2648afa9-6988-4b20-ce4b-3b3236694861"
      },
      "source": [
        "#print(lister[0])\n",
        "print(np.shape(x_val_n_temp))\n",
        "print(x_val_n_temp[0])\n",
        "\n",
        "print(np.shape(x_val_d_temp))\n",
        "print(x_val_d_temp[0])"
      ],
      "execution_count": null,
      "outputs": [
        {
          "output_type": "stream",
          "name": "stdout",
          "text": [
            "(92235,)\n",
            "[47, 49, 61, 47, 25, 18, 64, 40, 66, 103, 174, 222, 125, 232, 66, 103, 64, 40, 25, 18, 64, 5, 66, 81, 64, 66, 5, 64, 66, 81, 64, 64]\n",
            "(92632,)\n",
            "[0.33333333, 0.33333333, 0.25, 0.33333333, 0.33333333, 0.33333333, 0.5, 0.33333333, 0.33333333, 0.33333333, 0.33333333, 0.33333333, 0.33333333, 0.33333333, 0.33333333, 0.33333333, 0.33333333, 0.33333333, 0.33333333, 0.33333333, 0.33333333, 0.33333333, 0.33333333, 0.33333333, 0.5, 0.33333333, 0.33333333, 0.33333333, 0.25, 0.33333333, 0.33333333, 0.33333333]\n"
          ]
        }
      ]
    },
    {
      "cell_type": "code",
      "metadata": {
        "colab": {
          "base_uri": "https://localhost:8080/"
        },
        "id": "icccOG4gOxAF",
        "outputId": "71dc52ad-8864-480d-a7a2-92f115a6ba95"
      },
      "source": [
        "import numpy as np\n",
        "print(np.shape(x_val_n))\n",
        "print(np.shape(x_val_d))\n",
        "\n",
        "#(92234, 32)\n",
        "#(92647, 32)"
      ],
      "execution_count": null,
      "outputs": [
        {
          "output_type": "stream",
          "name": "stdout",
          "text": [
            "()\n",
            "()\n"
          ]
        }
      ]
    },
    {
      "cell_type": "code",
      "metadata": {
        "scrolled": true,
        "id": "YWZLu_1HXG4f",
        "colab": {
          "base_uri": "https://localhost:8080/"
        },
        "outputId": "795a4630-2e90-4b01-965c-182f60a0a978"
      },
      "source": [
        "#GENERATE PREDICTIONS\n",
        "\n",
        "import random\n",
        "import numpy as np\n",
        "no_of_timesteps = 32\n",
        "\n",
        "def rand_gen_n(x_val, model):\n",
        "  ind = np.random.randint(0,len(x_val)-1)\n",
        "\n",
        "  random_music = x_val[ind]\n",
        "\n",
        "  predictions=[]\n",
        "  for i in range(100):\n",
        "\n",
        "      random_music = np.array(random_music).reshape(1,no_of_timesteps)\n",
        "      #print('rand: ', random_music)\n",
        "      #print('rand 0: ', random_music[0])\n",
        "      prob  = model.predict(random_music)[0]\n",
        "      #print('prob: ',prob)\n",
        "\n",
        "      #y_pred= np.argmax(prob,axis=0)\n",
        "      rand_rand = np.random.randint(1,6)\n",
        "      rand_pred = np.random.randint(0,rand_rand)\n",
        "      neg_rand = (-1*rand_rand)+1\n",
        "      y_pred = np.argpartition(prob, neg_rand)[neg_rand:][rand_pred-1]\n",
        "\n",
        "      #print('y pred: ', y_pred)\n",
        "\n",
        "      #new test\n",
        "      while len(predictions) > 5 and all(y_pred == elem for elem in predictions[-5:]):\n",
        "        prob = np.delete(prob,np.argmax(prob,axis=0))\n",
        "        y_pred= np.argmax(prob,axis=0)\n",
        "      \n",
        "      predictions.append(y_pred)\n",
        "\n",
        "      random_music = np.insert(random_music[0],len(random_music[0]),y_pred)\n",
        "      random_music = random_music[1:]\n",
        "  print('Notes: ', predictions)\n",
        "  return predictions\n",
        "\n",
        "def rand_gen_d(x_val, model):\n",
        "  ind = np.random.randint(0,len(x_val)-1)\n",
        "  #print('len: ', len(x_val))\n",
        "  random_music = x_val[ind]\n",
        "  #print('rm: ', random_music)\n",
        "\n",
        "  predictions=[]\n",
        "  for i in range(100):\n",
        "\n",
        "      random_music = np.array(random_music).reshape(1,no_of_timesteps)\n",
        "      random_music = np.expand_dims(random_music, -1)\n",
        "      #print('rm: ', random_music)\n",
        "\n",
        "      prob = model.predict(random_music)[0]\n",
        "      #print('prob ',np.shape(prob))\n",
        "      #print('prob ',prob)\n",
        "      #print('y ',np.shape(unique_y_d))\n",
        "      #print('x ',np.shape(unique_x_d))\n",
        "      #print('possibilities: ', len(unique_y_d), ' ', unique_y_d)\n",
        "      \n",
        "      y_pred = np.argmax(prob,axis=0)\n",
        "      #rand_rand = 1 #np.random.randint(1,2)\n",
        "      #rand_pred = np.random.randint(0,rand_rand)\n",
        "      #neg_rand = (-1*rand_rand)+1\n",
        "      #y_pred = np.argpartition(prob, neg_rand)[neg_rand:][rand_pred-1]\n",
        "      y_pred = unique_y_d[y_pred]\n",
        "\n",
        "      #new test\n",
        "      while len(predictions) > 5 and all(y_pred == elem for elem in predictions[-5:]):\n",
        "        prob = np.delete(prob,np.argmax(prob,axis=0))\n",
        "        y_pred= np.argmax(prob,axis=0)\n",
        "      \n",
        "      if float(y_pred) < float(0.1):\n",
        "        y_pred == float(0.25)\n",
        "      if y_pred == 0:\n",
        "        y_pred == float(0.25)\n",
        "      #print(y_pred)\n",
        "\n",
        "      predictions.append(y_pred)\n",
        "\n",
        "      random_music = np.insert(random_music[0],len(random_music[0]),y_pred)\n",
        "      random_music = random_music[1:]\n",
        "  print('Durs: ',predictions)\n",
        "  return predictions\n",
        "\n",
        "predictions_n = rand_gen_n(np.asarray(x_val_n_temp), model_n)\n",
        "predictions_d = rand_gen_d(np.asarray(x_val_d_temp), model_d)\n",
        "\n",
        "\n",
        "#predictions = [64, 64, 64, 64, 56, 56, 291, 291, 56, 291, 291, 291, 56, 291, 77, 77, 77, 291, 77, 72, 72, 147, 23, 23, 23, 23, 23, 202, 23, 202, 23, 23, 82, 82, 82, 82, 82, 82, 82, 82, 82, 63, 63, 82, 82, 82, 245, 245, 168, 63, 56, 56, 56, 56, 56, 56, 56, 56, 56, 56, 56, 133, 77, 56, 82, 82, 82, 17, 17, 17, 17, 17, 17, 17, 17, 243, 243, 243, 243, 149, 149, 243, 75, 75, 75, 75, 75, 75, 75, 75, 75, 75, 75, 151, 75, 96, 75, 162, 162, 75]\n"
      ],
      "execution_count": null,
      "outputs": [
        {
          "output_type": "stream",
          "name": "stdout",
          "text": [
            "Notes:  [232, 213, 213, 232, 213, 200, 200, 232, 213, 213, 213, 188, 200, 213, 232, 200, 232, 200, 200, 232, 213, 200, 200, 200, 232, 200, 200, 200, 155, 200, 232, 155, 200, 200, 200, 232, 200, 213, 200, 200, 155, 200, 232, 155, 200, 200, 232, 200, 200, 155, 232, 200, 232, 200, 200, 197, 197, 155, 232, 200, 200, 232, 232, 200, 200, 200, 200, 200, 231, 232, 232, 25, 200, 232, 222, 222, 25, 200, 232, 25, 232, 222, 222, 222, 200, 25, 232, 222, 25, 222, 222, 232, 25, 232, 222, 222, 232, 222, 222, 232]\n",
            "Durs:  [0.25, 0.25, 0.25, 0.25, 0.25, 0.25, 0, 0.25, 0.25, 0.25, 0.25, 0.25, 0, 0.25, 0.25, 0.25, 0.25, 0.25, 0, 0.25, 0.25, 0.25, 0.25, 0.25, 0, 0.25, 0.25, 0.25, 0.25, 0.25, 0, 0.25, 0.25, 0.25, 0.25, 0.25, 0, 0.25, 0.25, 0.25, 0.25, 0.25, 0, 0.25, 0.25, 0.25, 0.25, 0.25, 0, 0.25, 0.25, 0.25, 0.25, 0.25, 0, 0.25, 0.25, 0.25, 0.25, 0.25, 0, 0.25, 0.25, 0.25, 0.25, 0.25, 0, 0.25, 0.25, 0.25, 0.25, 0.25, 0, 0.25, 0.25, 0.25, 0.25, 0.25, 0, 0.25, 0.25, 0.25, 0.25, 0.25, 0, 0.25, 0.25, 0.25, 0.25, 0.25, 0, 0.25, 0.25, 0.25, 0.25, 0.25, 0, 0.25, 0.25, 0.25]\n"
          ]
        }
      ]
    },
    {
      "cell_type": "code",
      "metadata": {
        "id": "kVKggIgNXG4f",
        "colab": {
          "base_uri": "https://localhost:8080/"
        },
        "outputId": "53cb5995-7ce5-4ba1-fa86-7631456ea573"
      },
      "source": [
        "def prep(unique_x, predictions):\n",
        "  x_int_to_note = dict((number, note_) for number, note_ in enumerate(unique_x)) \n",
        "  predicted_notes = [x_int_to_note[i] for i in predictions]\n",
        "  return predicted_notes\n",
        "\n",
        "predicted_notes_n = prep(unique_x_n, predictions_n)\n",
        "predicted_notes_d = predictions_d\n",
        "\n",
        "print(predicted_notes_n)\n",
        "print(predicted_notes_d)"
      ],
      "execution_count": null,
      "outputs": [
        {
          "output_type": "stream",
          "name": "stdout",
          "text": [
            "['10.0', '8.0.3', '8.0.3', '10.0', '8.0.3', 'A4', 'A4', '10.0', '8.0.3', '8.0.3', '8.0.3', '3.5.9', 'A4', '8.0.3', '10.0', 'A4', '10.0', 'A4', 'A4', '10.0', '8.0.3', 'A4', 'A4', 'A4', '10.0', 'A4', 'A4', 'A4', 'D6', 'A4', '10.0', 'D6', 'A4', 'A4', 'A4', '10.0', 'A4', '8.0.3', 'A4', 'A4', 'D6', 'A4', '10.0', 'D6', 'A4', 'A4', '10.0', 'A4', 'A4', 'D6', '10.0', 'A4', '10.0', 'A4', 'A4', '3.6', '3.6', 'D6', '10.0', 'A4', 'A4', '10.0', '10.0', 'A4', 'A4', 'A4', 'A4', 'A4', '3.7.10', '10.0', '10.0', '10.1', 'A4', '10.0', '6.10', '6.10', '10.1', 'A4', '10.0', '10.1', '10.0', '6.10', '6.10', '6.10', 'A4', '10.1', '10.0', '6.10', '10.1', '6.10', '6.10', '10.0', '10.1', '10.0', '6.10', '6.10', '10.0', '6.10', '6.10', '10.0']\n",
            "[0.25, 0.25, 0.25, 0.25, 0.25, 0.25, 0, 0.25, 0.25, 0.25, 0.25, 0.25, 0, 0.25, 0.25, 0.25, 0.25, 0.25, 0, 0.25, 0.25, 0.25, 0.25, 0.25, 0, 0.25, 0.25, 0.25, 0.25, 0.25, 0, 0.25, 0.25, 0.25, 0.25, 0.25, 0, 0.25, 0.25, 0.25, 0.25, 0.25, 0, 0.25, 0.25, 0.25, 0.25, 0.25, 0, 0.25, 0.25, 0.25, 0.25, 0.25, 0, 0.25, 0.25, 0.25, 0.25, 0.25, 0, 0.25, 0.25, 0.25, 0.25, 0.25, 0, 0.25, 0.25, 0.25, 0.25, 0.25, 0, 0.25, 0.25, 0.25, 0.25, 0.25, 0, 0.25, 0.25, 0.25, 0.25, 0.25, 0, 0.25, 0.25, 0.25, 0.25, 0.25, 0, 0.25, 0.25, 0.25, 0.25, 0.25, 0, 0.25, 0.25, 0.25]\n"
          ]
        }
      ]
    },
    {
      "cell_type": "code",
      "metadata": {
        "colab": {
          "base_uri": "https://localhost:8080/"
        },
        "id": "2FUMpFowDHux",
        "outputId": "e6b89608-01c8-4015-e3dd-092cb045c13a"
      },
      "source": [
        "#ROLLER COASTER DURATION GENERATOR\n",
        "\n",
        "predicted_notes_d = [0]*100\n",
        "cur = 0.25 #float(1.0/16.0) \n",
        "delta = 1.0\n",
        "i = 0\n",
        "while i < 100:\n",
        "  temp = cur + cur*delta\n",
        "  delta = max(delta - 0.1, 1.0)\n",
        "  if temp >= 2:\n",
        "    temp = 0.25  #float(1.0/16.0)\n",
        "    delta = 1\n",
        "    if i < 100:\n",
        "      predicted_notes_d[i] = temp\n",
        "      i+=1\n",
        "    if i < 100:\n",
        "      predicted_notes_d[i] = temp\n",
        "      i+=1\n",
        "    if i < 100:\n",
        "      predicted_notes_d[i] = temp\n",
        "      i+=1\n",
        "    if i < 100:\n",
        "      predicted_notes_d[i] = temp\n",
        "      i+=1\n",
        "  cur = temp\n",
        "  if i < 100:\n",
        "      predicted_notes_d[i] = temp\n",
        "      i+=1\n",
        "\n",
        "print(predicted_notes_d)\n"
      ],
      "execution_count": null,
      "outputs": [
        {
          "output_type": "stream",
          "name": "stdout",
          "text": [
            "[0.5, 1.0, 0.25, 0.25, 0.25, 0.25, 0.25, 0.5, 1.0, 0.25, 0.25, 0.25, 0.25, 0.25, 0.5, 1.0, 0.25, 0.25, 0.25, 0.25, 0.25, 0.5, 1.0, 0.25, 0.25, 0.25, 0.25, 0.25, 0.5, 1.0, 0.25, 0.25, 0.25, 0.25, 0.25, 0.5, 1.0, 0.25, 0.25, 0.25, 0.25, 0.25, 0.5, 1.0, 0.25, 0.25, 0.25, 0.25, 0.25, 0.5, 1.0, 0.25, 0.25, 0.25, 0.25, 0.25, 0.5, 1.0, 0.25, 0.25, 0.25, 0.25, 0.25, 0.5, 1.0, 0.25, 0.25, 0.25, 0.25, 0.25, 0.5, 1.0, 0.25, 0.25, 0.25, 0.25, 0.25, 0.5, 1.0, 0.25, 0.25, 0.25, 0.25, 0.25, 0.5, 1.0, 0.25, 0.25, 0.25, 0.25, 0.25, 0.5, 1.0, 0.25, 0.25, 0.25, 0.25, 0.25, 0.5, 1.0]\n"
          ]
        }
      ]
    },
    {
      "cell_type": "code",
      "metadata": {
        "id": "xd5wHASXXG4g"
      },
      "source": [
        "from fractions import Fraction\n",
        "\n",
        "def offset_calc(offset=0, offs=0, prevnote=None):\n",
        "    if prevnote == None:\n",
        "      return offset + offs #+ 0.5\n",
        "      #return offset + 1\n",
        "    else:\n",
        "      return offset + offs + prevnote.duration.quarterLength #+ 0.1\n",
        "\n",
        "'''\n",
        "def offset_calc_2(offset=0, offs=0, note, prevnote):\n",
        "    if prevnote == None:\n",
        "      return offset + offs + 0.5\n",
        "    else:\n",
        "      letter = prevnote.name\n",
        "      octave = prevnote.octave\n",
        "      if note.octave < octave:\n",
        "        return offset + offs + 0.5\n",
        "      elif note.octave == octave: #and note.name \n",
        "        return 1111111\n",
        "'''\n",
        "\n",
        "def convert_to_midi(prediction_output_n, prediction_output_d):\n",
        "   \n",
        "    offset = 0\n",
        "    offs = 0\n",
        "    output_notes = []\n",
        "\n",
        "    prevnote = None\n",
        "\n",
        "    # create note and chord objects based on the values generated by the model\n",
        "    for pattern_ind in range(len(prediction_output_n)):\n",
        "        pattern = prediction_output_n[pattern_ind]\n",
        "        durat = prediction_output_d[pattern_ind]\n",
        "        if durat == 0:\n",
        "          durat = 1.0\n",
        "        if durat == 1:\n",
        "          durat = 1.0\n",
        "        if durat == 2:\n",
        "          durat = 2.0\n",
        "        # pattern is a chord\n",
        "        if ('.' in pattern) or pattern.isdigit():\n",
        "            notes_in_chord = pattern.split('.')\n",
        "            notes = []\n",
        "            for current_note in notes_in_chord:\n",
        "                \n",
        "                cn=int(current_note)\n",
        "                new_note = note.Note(cn)\n",
        "                new_note.storedInstrument = instrument.Piano()\n",
        "                notes.append(new_note)\n",
        "                \n",
        "            new_chord = chord.Chord(notes)\n",
        "            new_chord.offset = offset_calc(offset,offs, prevnote)\n",
        "            offset = new_chord.offset\n",
        "            new_chord.duration.quarterLength = durat\n",
        "            output_notes.append(new_chord)\n",
        "\n",
        "            prevnote = new_chord\n",
        "            \n",
        "        # pattern is a note\n",
        "        else:\n",
        "            \n",
        "            new_note = note.Note(pattern)\n",
        "            new_note.offset = offset_calc(offset,offs, prevnote)\n",
        "            offset = new_note.offset\n",
        "            new_note.storedInstrument = instrument.Piano()\n",
        "            new_note.duration.quarterLength = durat\n",
        "            output_notes.append(new_note)\n",
        "\n",
        "            prevnote = new_note\n",
        "\n",
        "        # increase offset each iteration so that notes do not stack\n",
        "        #offset += 1\n",
        "\n",
        "    midi_stream = stream.Stream(output_notes)\n",
        "    midi_stream.write('midi', fp='music.mid')\n",
        "\n",
        "    #for downloading from google colab:\n",
        "    from google.colab import files\n",
        "    files.download('music.mid') \n",
        "    #/content/gdrive/My\\ Drive/Generated_Music/\n",
        "    #with open('/content/drive/My Drive/music.mid', 'w') as f:\n",
        "        #midi_stream.write('midi', fp='music.mid')\n",
        "    #drive.flush_and_unmount()      #<- this disconnects from drive. idk if its necessary to do for the file to be viewable in drive, but if i do it then i have to reconnect to drive within this function\n",
        "    \n",
        "    for x in output_notes[0:10]:\n",
        "        print(x,' ',x.duration.quarterLength,' ',x.offset)"
      ],
      "execution_count": null,
      "outputs": []
    },
    {
      "cell_type": "code",
      "metadata": {
        "id": "hAhq8IyQXG4h",
        "colab": {
          "base_uri": "https://localhost:8080/",
          "height": 191
        },
        "outputId": "4dd31192-767e-4a53-d85a-cf1a5c4656ed"
      },
      "source": [
        "convert_to_midi(predicted_notes_n, predicted_notes_d)\n"
      ],
      "execution_count": null,
      "outputs": [
        {
          "output_type": "display_data",
          "data": {
            "application/javascript": [
              "\n",
              "    async function download(id, filename, size) {\n",
              "      if (!google.colab.kernel.accessAllowed) {\n",
              "        return;\n",
              "      }\n",
              "      const div = document.createElement('div');\n",
              "      const label = document.createElement('label');\n",
              "      label.textContent = `Downloading \"${filename}\": `;\n",
              "      div.appendChild(label);\n",
              "      const progress = document.createElement('progress');\n",
              "      progress.max = size;\n",
              "      div.appendChild(progress);\n",
              "      document.body.appendChild(div);\n",
              "\n",
              "      const buffers = [];\n",
              "      let downloaded = 0;\n",
              "\n",
              "      const channel = await google.colab.kernel.comms.open(id);\n",
              "      // Send a message to notify the kernel that we're ready.\n",
              "      channel.send({})\n",
              "\n",
              "      for await (const message of channel.messages) {\n",
              "        // Send a message to notify the kernel that we're ready.\n",
              "        channel.send({})\n",
              "        if (message.buffers) {\n",
              "          for (const buffer of message.buffers) {\n",
              "            buffers.push(buffer);\n",
              "            downloaded += buffer.byteLength;\n",
              "            progress.value = downloaded;\n",
              "          }\n",
              "        }\n",
              "      }\n",
              "      const blob = new Blob(buffers, {type: 'application/binary'});\n",
              "      const a = document.createElement('a');\n",
              "      a.href = window.URL.createObjectURL(blob);\n",
              "      a.download = filename;\n",
              "      div.appendChild(a);\n",
              "      a.click();\n",
              "      div.remove();\n",
              "    }\n",
              "  "
            ],
            "text/plain": [
              "<IPython.core.display.Javascript object>"
            ]
          },
          "metadata": {}
        },
        {
          "output_type": "display_data",
          "data": {
            "application/javascript": [
              "download(\"download_3ae44d56-8fd1-484d-b3a3-5090d0322e4a\", \"music.mid\", 1479)"
            ],
            "text/plain": [
              "<IPython.core.display.Javascript object>"
            ]
          },
          "metadata": {}
        },
        {
          "output_type": "stream",
          "name": "stdout",
          "text": [
            "<music21.chord.Chord B- C>   0.5   0.0\n",
            "<music21.chord.Chord G# C E->   1.0   0.5\n",
            "<music21.chord.Chord G# C E->   0.25   1.5\n",
            "<music21.chord.Chord B- C>   0.25   1.75\n",
            "<music21.chord.Chord G# C E->   0.25   2.0\n",
            "<music21.note.Note A>   0.25   2.25\n",
            "<music21.note.Note A>   0.25   2.5\n",
            "<music21.chord.Chord B- C>   0.5   2.75\n",
            "<music21.chord.Chord G# C E->   1.0   3.25\n",
            "<music21.chord.Chord G# C E->   0.25   4.25\n"
          ]
        }
      ]
    }
  ]
}